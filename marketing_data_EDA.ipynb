{
 "cells": [
  {
   "cell_type": "markdown",
   "id": "5c6804cf",
   "metadata": {},
   "source": [
    "# Question 2"
   ]
  },
  {
   "cell_type": "code",
   "execution_count": 499,
   "id": "81d7bce3",
   "metadata": {},
   "outputs": [],
   "source": [
    "import numpy as np\n",
    "import pandas as pd\n",
    "import matplotlib.pyplot as plt\n",
    "%matplotlib inline\n",
    "import seaborn as sns\n",
    "import plotly.express as px\n",
    "import missingno as msno"
   ]
  },
  {
   "cell_type": "markdown",
   "id": "422edb6d",
   "metadata": {},
   "source": [
    "### 1. Load dataset"
   ]
  },
  {
   "cell_type": "code",
   "execution_count": 500,
   "id": "9e33714a",
   "metadata": {},
   "outputs": [
    {
     "data": {
      "text/html": [
       "<div>\n",
       "<style scoped>\n",
       "    .dataframe tbody tr th:only-of-type {\n",
       "        vertical-align: middle;\n",
       "    }\n",
       "\n",
       "    .dataframe tbody tr th {\n",
       "        vertical-align: top;\n",
       "    }\n",
       "\n",
       "    .dataframe thead th {\n",
       "        text-align: right;\n",
       "    }\n",
       "</style>\n",
       "<table border=\"1\" class=\"dataframe\">\n",
       "  <thead>\n",
       "    <tr style=\"text-align: right;\">\n",
       "      <th></th>\n",
       "      <th>user_id</th>\n",
       "      <th>date_served</th>\n",
       "      <th>marketing_channel</th>\n",
       "      <th>variant</th>\n",
       "      <th>converted</th>\n",
       "      <th>language_displayed</th>\n",
       "      <th>language_preferred</th>\n",
       "      <th>age_group</th>\n",
       "      <th>date_subscribed</th>\n",
       "      <th>date_canceled</th>\n",
       "      <th>subscribing_channel</th>\n",
       "      <th>is_retained</th>\n",
       "      <th>DoW</th>\n",
       "      <th>channel_code</th>\n",
       "      <th>is_correct_lang</th>\n",
       "    </tr>\n",
       "  </thead>\n",
       "  <tbody>\n",
       "    <tr>\n",
       "      <th>0</th>\n",
       "      <td>a100000029</td>\n",
       "      <td>2018-01-01</td>\n",
       "      <td>House Ads</td>\n",
       "      <td>personalization</td>\n",
       "      <td>True</td>\n",
       "      <td>English</td>\n",
       "      <td>English</td>\n",
       "      <td>0-18 years</td>\n",
       "      <td>2018-01-01</td>\n",
       "      <td>NaN</td>\n",
       "      <td>House Ads</td>\n",
       "      <td>True</td>\n",
       "      <td>0.0</td>\n",
       "      <td>1.0</td>\n",
       "      <td>Yes</td>\n",
       "    </tr>\n",
       "    <tr>\n",
       "      <th>1</th>\n",
       "      <td>a100000030</td>\n",
       "      <td>2018-01-01</td>\n",
       "      <td>House Ads</td>\n",
       "      <td>personalization</td>\n",
       "      <td>True</td>\n",
       "      <td>English</td>\n",
       "      <td>English</td>\n",
       "      <td>19-24 years</td>\n",
       "      <td>2018-01-01</td>\n",
       "      <td>NaN</td>\n",
       "      <td>House Ads</td>\n",
       "      <td>True</td>\n",
       "      <td>0.0</td>\n",
       "      <td>1.0</td>\n",
       "      <td>Yes</td>\n",
       "    </tr>\n",
       "    <tr>\n",
       "      <th>2</th>\n",
       "      <td>a100000031</td>\n",
       "      <td>2018-01-01</td>\n",
       "      <td>House Ads</td>\n",
       "      <td>personalization</td>\n",
       "      <td>True</td>\n",
       "      <td>English</td>\n",
       "      <td>English</td>\n",
       "      <td>24-30 years</td>\n",
       "      <td>2018-01-01</td>\n",
       "      <td>NaN</td>\n",
       "      <td>House Ads</td>\n",
       "      <td>True</td>\n",
       "      <td>0.0</td>\n",
       "      <td>1.0</td>\n",
       "      <td>Yes</td>\n",
       "    </tr>\n",
       "    <tr>\n",
       "      <th>3</th>\n",
       "      <td>a100000032</td>\n",
       "      <td>2018-01-01</td>\n",
       "      <td>House Ads</td>\n",
       "      <td>personalization</td>\n",
       "      <td>True</td>\n",
       "      <td>English</td>\n",
       "      <td>English</td>\n",
       "      <td>30-36 years</td>\n",
       "      <td>2018-01-01</td>\n",
       "      <td>NaN</td>\n",
       "      <td>House Ads</td>\n",
       "      <td>True</td>\n",
       "      <td>0.0</td>\n",
       "      <td>1.0</td>\n",
       "      <td>Yes</td>\n",
       "    </tr>\n",
       "    <tr>\n",
       "      <th>4</th>\n",
       "      <td>a100000033</td>\n",
       "      <td>2018-01-01</td>\n",
       "      <td>House Ads</td>\n",
       "      <td>personalization</td>\n",
       "      <td>True</td>\n",
       "      <td>English</td>\n",
       "      <td>English</td>\n",
       "      <td>36-45 years</td>\n",
       "      <td>2018-01-01</td>\n",
       "      <td>NaN</td>\n",
       "      <td>House Ads</td>\n",
       "      <td>True</td>\n",
       "      <td>0.0</td>\n",
       "      <td>1.0</td>\n",
       "      <td>Yes</td>\n",
       "    </tr>\n",
       "    <tr>\n",
       "      <th>...</th>\n",
       "      <td>...</td>\n",
       "      <td>...</td>\n",
       "      <td>...</td>\n",
       "      <td>...</td>\n",
       "      <td>...</td>\n",
       "      <td>...</td>\n",
       "      <td>...</td>\n",
       "      <td>...</td>\n",
       "      <td>...</td>\n",
       "      <td>...</td>\n",
       "      <td>...</td>\n",
       "      <td>...</td>\n",
       "      <td>...</td>\n",
       "      <td>...</td>\n",
       "      <td>...</td>\n",
       "    </tr>\n",
       "    <tr>\n",
       "      <th>10032</th>\n",
       "      <td>a100007290</td>\n",
       "      <td>2018-01-17</td>\n",
       "      <td>Email</td>\n",
       "      <td>control</td>\n",
       "      <td>True</td>\n",
       "      <td>German</td>\n",
       "      <td>German</td>\n",
       "      <td>45-55 years</td>\n",
       "      <td>2018-01-17</td>\n",
       "      <td>2018-01-24</td>\n",
       "      <td>Email</td>\n",
       "      <td>False</td>\n",
       "      <td>2.0</td>\n",
       "      <td>4.0</td>\n",
       "      <td>Yes</td>\n",
       "    </tr>\n",
       "    <tr>\n",
       "      <th>10033</th>\n",
       "      <td>a100007291</td>\n",
       "      <td>2018-01-17</td>\n",
       "      <td>Email</td>\n",
       "      <td>control</td>\n",
       "      <td>True</td>\n",
       "      <td>German</td>\n",
       "      <td>German</td>\n",
       "      <td>55+ years</td>\n",
       "      <td>2018-01-17</td>\n",
       "      <td>NaN</td>\n",
       "      <td>Email</td>\n",
       "      <td>True</td>\n",
       "      <td>2.0</td>\n",
       "      <td>4.0</td>\n",
       "      <td>Yes</td>\n",
       "    </tr>\n",
       "    <tr>\n",
       "      <th>10034</th>\n",
       "      <td>a100007292</td>\n",
       "      <td>2018-01-05</td>\n",
       "      <td>Instagram</td>\n",
       "      <td>control</td>\n",
       "      <td>False</td>\n",
       "      <td>German</td>\n",
       "      <td>German</td>\n",
       "      <td>55+ years</td>\n",
       "      <td>2018-01-17</td>\n",
       "      <td>NaN</td>\n",
       "      <td>Email</td>\n",
       "      <td>True</td>\n",
       "      <td>2.0</td>\n",
       "      <td>4.0</td>\n",
       "      <td>Yes</td>\n",
       "    </tr>\n",
       "    <tr>\n",
       "      <th>10035</th>\n",
       "      <td>a100007293</td>\n",
       "      <td>2018-01-17</td>\n",
       "      <td>Email</td>\n",
       "      <td>control</td>\n",
       "      <td>True</td>\n",
       "      <td>German</td>\n",
       "      <td>German</td>\n",
       "      <td>0-18 years</td>\n",
       "      <td>2018-01-17</td>\n",
       "      <td>NaN</td>\n",
       "      <td>Email</td>\n",
       "      <td>True</td>\n",
       "      <td>2.0</td>\n",
       "      <td>4.0</td>\n",
       "      <td>Yes</td>\n",
       "    </tr>\n",
       "    <tr>\n",
       "      <th>10036</th>\n",
       "      <td>a100007294</td>\n",
       "      <td>2018-01-06</td>\n",
       "      <td>Facebook</td>\n",
       "      <td>control</td>\n",
       "      <td>False</td>\n",
       "      <td>German</td>\n",
       "      <td>German</td>\n",
       "      <td>0-18 years</td>\n",
       "      <td>2018-01-17</td>\n",
       "      <td>NaN</td>\n",
       "      <td>Email</td>\n",
       "      <td>True</td>\n",
       "      <td>2.0</td>\n",
       "      <td>4.0</td>\n",
       "      <td>Yes</td>\n",
       "    </tr>\n",
       "  </tbody>\n",
       "</table>\n",
       "<p>10037 rows × 15 columns</p>\n",
       "</div>"
      ],
      "text/plain": [
       "          user_id date_served marketing_channel          variant  converted  \\\n",
       "0      a100000029  2018-01-01         House Ads  personalization       True   \n",
       "1      a100000030  2018-01-01         House Ads  personalization       True   \n",
       "2      a100000031  2018-01-01         House Ads  personalization       True   \n",
       "3      a100000032  2018-01-01         House Ads  personalization       True   \n",
       "4      a100000033  2018-01-01         House Ads  personalization       True   \n",
       "...           ...         ...               ...              ...        ...   \n",
       "10032  a100007290  2018-01-17             Email          control       True   \n",
       "10033  a100007291  2018-01-17             Email          control       True   \n",
       "10034  a100007292  2018-01-05         Instagram          control      False   \n",
       "10035  a100007293  2018-01-17             Email          control       True   \n",
       "10036  a100007294  2018-01-06          Facebook          control      False   \n",
       "\n",
       "      language_displayed language_preferred    age_group date_subscribed  \\\n",
       "0                English            English   0-18 years      2018-01-01   \n",
       "1                English            English  19-24 years      2018-01-01   \n",
       "2                English            English  24-30 years      2018-01-01   \n",
       "3                English            English  30-36 years      2018-01-01   \n",
       "4                English            English  36-45 years      2018-01-01   \n",
       "...                  ...                ...          ...             ...   \n",
       "10032             German             German  45-55 years      2018-01-17   \n",
       "10033             German             German    55+ years      2018-01-17   \n",
       "10034             German             German    55+ years      2018-01-17   \n",
       "10035             German             German   0-18 years      2018-01-17   \n",
       "10036             German             German   0-18 years      2018-01-17   \n",
       "\n",
       "      date_canceled subscribing_channel  is_retained  DoW  channel_code  \\\n",
       "0               NaN           House Ads         True  0.0           1.0   \n",
       "1               NaN           House Ads         True  0.0           1.0   \n",
       "2               NaN           House Ads         True  0.0           1.0   \n",
       "3               NaN           House Ads         True  0.0           1.0   \n",
       "4               NaN           House Ads         True  0.0           1.0   \n",
       "...             ...                 ...          ...  ...           ...   \n",
       "10032    2018-01-24               Email        False  2.0           4.0   \n",
       "10033           NaN               Email         True  2.0           4.0   \n",
       "10034           NaN               Email         True  2.0           4.0   \n",
       "10035           NaN               Email         True  2.0           4.0   \n",
       "10036           NaN               Email         True  2.0           4.0   \n",
       "\n",
       "      is_correct_lang  \n",
       "0                 Yes  \n",
       "1                 Yes  \n",
       "2                 Yes  \n",
       "3                 Yes  \n",
       "4                 Yes  \n",
       "...               ...  \n",
       "10032             Yes  \n",
       "10033             Yes  \n",
       "10034             Yes  \n",
       "10035             Yes  \n",
       "10036             Yes  \n",
       "\n",
       "[10037 rows x 15 columns]"
      ]
     },
     "execution_count": 500,
     "metadata": {},
     "output_type": "execute_result"
    }
   ],
   "source": [
    "df = pd.read_csv('marketing.csv',index_col=0, delimiter=',')\n",
    "df"
   ]
  },
  {
   "cell_type": "code",
   "execution_count": 501,
   "id": "370b2c46",
   "metadata": {
    "scrolled": true
   },
   "outputs": [
    {
     "data": {
      "text/plain": [
       "(10037, 15)"
      ]
     },
     "execution_count": 501,
     "metadata": {},
     "output_type": "execute_result"
    }
   ],
   "source": [
    "df.shape"
   ]
  },
  {
   "cell_type": "code",
   "execution_count": 502,
   "id": "ee324d2c",
   "metadata": {
    "scrolled": true
   },
   "outputs": [
    {
     "name": "stdout",
     "output_type": "stream",
     "text": [
      "<class 'pandas.core.frame.DataFrame'>\n",
      "Int64Index: 10037 entries, 0 to 10036\n",
      "Data columns (total 15 columns):\n",
      " #   Column               Non-Null Count  Dtype  \n",
      "---  ------               --------------  -----  \n",
      " 0   user_id              10037 non-null  object \n",
      " 1   date_served          10021 non-null  object \n",
      " 2   marketing_channel    10022 non-null  object \n",
      " 3   variant              10037 non-null  object \n",
      " 4   converted            10037 non-null  bool   \n",
      " 5   language_displayed   10037 non-null  object \n",
      " 6   language_preferred   10037 non-null  object \n",
      " 7   age_group            10037 non-null  object \n",
      " 8   date_subscribed      1856 non-null   object \n",
      " 9   date_canceled        577 non-null    object \n",
      " 10  subscribing_channel  1856 non-null   object \n",
      " 11  is_retained          10037 non-null  bool   \n",
      " 12  DoW                  1856 non-null   float64\n",
      " 13  channel_code         1856 non-null   float64\n",
      " 14  is_correct_lang      10037 non-null  object \n",
      "dtypes: bool(2), float64(2), object(11)\n",
      "memory usage: 1.1+ MB\n"
     ]
    }
   ],
   "source": [
    "df.info()"
   ]
  },
  {
   "cell_type": "markdown",
   "id": "95be0f18",
   "metadata": {},
   "source": [
    "### 2. Examining missing data"
   ]
  },
  {
   "cell_type": "code",
   "execution_count": 503,
   "id": "25a235a7",
   "metadata": {},
   "outputs": [
    {
     "data": {
      "text/plain": [
       "<AxesSubplot:>"
      ]
     },
     "execution_count": 503,
     "metadata": {},
     "output_type": "execute_result"
    },
    {
     "data": {
      "image/png": "[encoded data removed]",
      "text/plain": [
       "<Figure size 1800x720 with 2 Axes>"
      ]
     },
     "metadata": {
      "needs_background": "light"
     },
     "output_type": "display_data"
    }
   ],
   "source": [
    "msno.matrix(df)"
   ]
  },
  {
   "cell_type": "code",
   "execution_count": 504,
   "id": "a52fe023",
   "metadata": {},
   "outputs": [
    {
     "data": {
      "text/plain": [
       "<AxesSubplot:>"
      ]
     },
     "execution_count": 504,
     "metadata": {},
     "output_type": "execute_result"
    },
    {
     "data": {
      "image/png": "[encoded data removed]",
      "text/plain": [
       "<Figure size 1440x864 with 2 Axes>"
      ]
     },
     "metadata": {
      "needs_background": "light"
     },
     "output_type": "display_data"
    }
   ],
   "source": [
    "msno.heatmap(df)"
   ]
  },
  {
   "cell_type": "code",
   "execution_count": 505,
   "id": "cabfd06c",
   "metadata": {},
   "outputs": [],
   "source": [
    "# looking into the different features to understand why\n",
    "\n",
    "df[df['date_canceled'].isna()]; # needs feature engineering\n",
    "#df[df['date_served'].isna()] # drop this\n",
    "#df[df['marketing_channel'].isna()] # drop this\n",
    "#df[df['subscribing_channel'].isna()]\n",
    "#df[df['date_subscribed'].isna()]; # those who didn't subscribe after viewing the ad\n",
    "#df[df['DoW'].isna()];\n",
    "#df[df['channel_code'].isna()];"
   ]
  },
  {
   "cell_type": "markdown",
   "id": "012edd12",
   "metadata": {},
   "source": [
    "There is a sizeable chunk of missing data from `date_subscribed`, `date_canceled`, `subscribing_channel`, `DOW`, `channel_code`. \n",
    "\n",
    "Additionally, if the strong correlation of missing data between `date_subscribed`, `subscribing_channel`, `DOW`, and `channel_code` indicated that if there is data missing in any of these columns, it is most likely missing in the other three columns too. Because... logically.\n",
    "\n",
    "But I need to bear in mind that \n",
    "\n",
    "1. If there is no churn, there will obviously be missing data in `date_canceled`. So I need to do something about that.\n",
    "2. If there is no subscription, there will obviously be missing data in `date_subscribed`. So I need to do something about that.\n",
    "3. DoW, channel_code have 0.0 as a legitimate code"
   ]
  },
  {
   "cell_type": "markdown",
   "id": "f50da96c",
   "metadata": {},
   "source": [
    "### 3. Feature engineering"
   ]
  },
  {
   "cell_type": "code",
   "execution_count": 506,
   "id": "c5b5a2b1",
   "metadata": {},
   "outputs": [],
   "source": [
    "df['date_served']= pd.to_datetime(df['date_served'])\n",
    "df['date_subscribed']= pd.to_datetime(df['date_subscribed'])\n",
    "df['date_canceled']= pd.to_datetime(df['date_canceled'])"
   ]
  },
  {
   "cell_type": "code",
   "execution_count": 507,
   "id": "c4a18904",
   "metadata": {
    "scrolled": true
   },
   "outputs": [
    {
     "name": "stdout",
     "output_type": "stream",
     "text": [
      "<class 'pandas.core.frame.DataFrame'>\n",
      "Int64Index: 10037 entries, 0 to 10036\n",
      "Data columns (total 15 columns):\n",
      " #   Column               Non-Null Count  Dtype         \n",
      "---  ------               --------------  -----         \n",
      " 0   user_id              10037 non-null  object        \n",
      " 1   date_served          10021 non-null  datetime64[ns]\n",
      " 2   marketing_channel    10022 non-null  object        \n",
      " 3   variant              10037 non-null  object        \n",
      " 4   converted            10037 non-null  bool          \n",
      " 5   language_displayed   10037 non-null  object        \n",
      " 6   language_preferred   10037 non-null  object        \n",
      " 7   age_group            10037 non-null  object        \n",
      " 8   date_subscribed      1856 non-null   datetime64[ns]\n",
      " 9   date_canceled        577 non-null    datetime64[ns]\n",
      " 10  subscribing_channel  1856 non-null   object        \n",
      " 11  is_retained          10037 non-null  bool          \n",
      " 12  DoW                  1856 non-null   float64       \n",
      " 13  channel_code         1856 non-null   float64       \n",
      " 14  is_correct_lang      10037 non-null  object        \n",
      "dtypes: bool(2), datetime64[ns](3), float64(2), object(8)\n",
      "memory usage: 1.1+ MB\n"
     ]
    }
   ],
   "source": [
    "df.info()"
   ]
  },
  {
   "cell_type": "code",
   "execution_count": 508,
   "id": "93abe9c3",
   "metadata": {
    "scrolled": true
   },
   "outputs": [
    {
     "name": "stdout",
     "output_type": "stream",
     "text": [
      "<class 'pandas.core.frame.DataFrame'>\n",
      "Int64Index: 9856 entries, 0 to 10036\n",
      "Data columns (total 17 columns):\n",
      " #   Column                  Non-Null Count  Dtype          \n",
      "---  ------                  --------------  -----          \n",
      " 0   user_id                 9856 non-null   object         \n",
      " 1   date_served             9840 non-null   datetime64[ns] \n",
      " 2   marketing_channel       9841 non-null   object         \n",
      " 3   variant                 9856 non-null   object         \n",
      " 4   converted               9856 non-null   bool           \n",
      " 5   language_displayed      9856 non-null   object         \n",
      " 6   language_preferred      9856 non-null   object         \n",
      " 7   age_group               9856 non-null   object         \n",
      " 8   date_subscribed         1675 non-null   datetime64[ns] \n",
      " 9   date_canceled           534 non-null    datetime64[ns] \n",
      " 10  subscribing_channel     1675 non-null   object         \n",
      " 11  is_retained             9856 non-null   bool           \n",
      " 12  DoW                     1675 non-null   float64        \n",
      " 13  channel_code            1675 non-null   float64        \n",
      " 14  is_correct_lang         9856 non-null   object         \n",
      " 15  served_to_subscribed    1675 non-null   timedelta64[ns]\n",
      " 16  subscribed_to_canceled  534 non-null    timedelta64[ns]\n",
      "dtypes: bool(2), datetime64[ns](3), float64(2), object(8), timedelta64[ns](2)\n",
      "memory usage: 1.5+ MB\n"
     ]
    },
    {
     "data": {
      "text/html": [
       "<div>\n",
       "<style scoped>\n",
       "    .dataframe tbody tr th:only-of-type {\n",
       "        vertical-align: middle;\n",
       "    }\n",
       "\n",
       "    .dataframe tbody tr th {\n",
       "        vertical-align: top;\n",
       "    }\n",
       "\n",
       "    .dataframe thead th {\n",
       "        text-align: right;\n",
       "    }\n",
       "</style>\n",
       "<table border=\"1\" class=\"dataframe\">\n",
       "  <thead>\n",
       "    <tr style=\"text-align: right;\">\n",
       "      <th></th>\n",
       "      <th>user_id</th>\n",
       "      <th>date_served</th>\n",
       "      <th>marketing_channel</th>\n",
       "      <th>variant</th>\n",
       "      <th>converted</th>\n",
       "      <th>language_displayed</th>\n",
       "      <th>language_preferred</th>\n",
       "      <th>age_group</th>\n",
       "      <th>date_subscribed</th>\n",
       "      <th>date_canceled</th>\n",
       "      <th>subscribing_channel</th>\n",
       "      <th>is_retained</th>\n",
       "      <th>DoW</th>\n",
       "      <th>channel_code</th>\n",
       "      <th>is_correct_lang</th>\n",
       "      <th>served_to_subscribed</th>\n",
       "      <th>subscribed_to_canceled</th>\n",
       "    </tr>\n",
       "  </thead>\n",
       "  <tbody>\n",
       "    <tr>\n",
       "      <th>4638</th>\n",
       "      <td>a100002795</td>\n",
       "      <td>2018-01-21</td>\n",
       "      <td>House Ads</td>\n",
       "      <td>control</td>\n",
       "      <td>False</td>\n",
       "      <td>English</td>\n",
       "      <td>English</td>\n",
       "      <td>30-36 years</td>\n",
       "      <td>NaT</td>\n",
       "      <td>NaT</td>\n",
       "      <td>NaN</td>\n",
       "      <td>True</td>\n",
       "      <td>NaN</td>\n",
       "      <td>NaN</td>\n",
       "      <td>Yes</td>\n",
       "      <td>NaT</td>\n",
       "      <td>NaT</td>\n",
       "    </tr>\n",
       "    <tr>\n",
       "      <th>4621</th>\n",
       "      <td>a100002778</td>\n",
       "      <td>2018-01-19</td>\n",
       "      <td>Instagram</td>\n",
       "      <td>control</td>\n",
       "      <td>False</td>\n",
       "      <td>English</td>\n",
       "      <td>English</td>\n",
       "      <td>36-45 years</td>\n",
       "      <td>NaT</td>\n",
       "      <td>NaT</td>\n",
       "      <td>NaN</td>\n",
       "      <td>True</td>\n",
       "      <td>NaN</td>\n",
       "      <td>NaN</td>\n",
       "      <td>Yes</td>\n",
       "      <td>NaT</td>\n",
       "      <td>NaT</td>\n",
       "    </tr>\n",
       "    <tr>\n",
       "      <th>5478</th>\n",
       "      <td>a100003614</td>\n",
       "      <td>2018-01-29</td>\n",
       "      <td>House Ads</td>\n",
       "      <td>control</td>\n",
       "      <td>False</td>\n",
       "      <td>English</td>\n",
       "      <td>Arabic</td>\n",
       "      <td>36-45 years</td>\n",
       "      <td>NaT</td>\n",
       "      <td>NaT</td>\n",
       "      <td>NaN</td>\n",
       "      <td>True</td>\n",
       "      <td>NaN</td>\n",
       "      <td>NaN</td>\n",
       "      <td>No</td>\n",
       "      <td>NaT</td>\n",
       "      <td>NaT</td>\n",
       "    </tr>\n",
       "    <tr>\n",
       "      <th>4499</th>\n",
       "      <td>a100002656</td>\n",
       "      <td>2018-01-01</td>\n",
       "      <td>Facebook</td>\n",
       "      <td>control</td>\n",
       "      <td>False</td>\n",
       "      <td>English</td>\n",
       "      <td>English</td>\n",
       "      <td>45-55 years</td>\n",
       "      <td>NaT</td>\n",
       "      <td>NaT</td>\n",
       "      <td>NaN</td>\n",
       "      <td>True</td>\n",
       "      <td>NaN</td>\n",
       "      <td>NaN</td>\n",
       "      <td>Yes</td>\n",
       "      <td>NaT</td>\n",
       "      <td>NaT</td>\n",
       "    </tr>\n",
       "    <tr>\n",
       "      <th>6522</th>\n",
       "      <td>a100004246</td>\n",
       "      <td>2018-01-08</td>\n",
       "      <td>Facebook</td>\n",
       "      <td>personalization</td>\n",
       "      <td>False</td>\n",
       "      <td>English</td>\n",
       "      <td>English</td>\n",
       "      <td>24-30 years</td>\n",
       "      <td>NaT</td>\n",
       "      <td>NaT</td>\n",
       "      <td>NaN</td>\n",
       "      <td>True</td>\n",
       "      <td>NaN</td>\n",
       "      <td>NaN</td>\n",
       "      <td>Yes</td>\n",
       "      <td>NaT</td>\n",
       "      <td>NaT</td>\n",
       "    </tr>\n",
       "    <tr>\n",
       "      <th>7438</th>\n",
       "      <td>a100004704</td>\n",
       "      <td>2018-01-11</td>\n",
       "      <td>House Ads</td>\n",
       "      <td>personalization</td>\n",
       "      <td>False</td>\n",
       "      <td>English</td>\n",
       "      <td>English</td>\n",
       "      <td>45-55 years</td>\n",
       "      <td>NaT</td>\n",
       "      <td>NaT</td>\n",
       "      <td>NaN</td>\n",
       "      <td>True</td>\n",
       "      <td>NaN</td>\n",
       "      <td>NaN</td>\n",
       "      <td>Yes</td>\n",
       "      <td>NaT</td>\n",
       "      <td>NaT</td>\n",
       "    </tr>\n",
       "    <tr>\n",
       "      <th>7753</th>\n",
       "      <td>a100004967</td>\n",
       "      <td>2018-01-29</td>\n",
       "      <td>House Ads</td>\n",
       "      <td>personalization</td>\n",
       "      <td>False</td>\n",
       "      <td>English</td>\n",
       "      <td>English</td>\n",
       "      <td>24-30 years</td>\n",
       "      <td>NaT</td>\n",
       "      <td>NaT</td>\n",
       "      <td>NaN</td>\n",
       "      <td>True</td>\n",
       "      <td>NaN</td>\n",
       "      <td>NaN</td>\n",
       "      <td>Yes</td>\n",
       "      <td>NaT</td>\n",
       "      <td>NaT</td>\n",
       "    </tr>\n",
       "    <tr>\n",
       "      <th>4894</th>\n",
       "      <td>a100003051</td>\n",
       "      <td>2018-01-27</td>\n",
       "      <td>Instagram</td>\n",
       "      <td>control</td>\n",
       "      <td>False</td>\n",
       "      <td>English</td>\n",
       "      <td>English</td>\n",
       "      <td>24-30 years</td>\n",
       "      <td>NaT</td>\n",
       "      <td>NaT</td>\n",
       "      <td>NaN</td>\n",
       "      <td>True</td>\n",
       "      <td>NaN</td>\n",
       "      <td>NaN</td>\n",
       "      <td>Yes</td>\n",
       "      <td>NaT</td>\n",
       "      <td>NaT</td>\n",
       "    </tr>\n",
       "    <tr>\n",
       "      <th>4755</th>\n",
       "      <td>a100002912</td>\n",
       "      <td>2018-01-07</td>\n",
       "      <td>House Ads</td>\n",
       "      <td>control</td>\n",
       "      <td>False</td>\n",
       "      <td>English</td>\n",
       "      <td>English</td>\n",
       "      <td>55+ years</td>\n",
       "      <td>NaT</td>\n",
       "      <td>NaT</td>\n",
       "      <td>NaN</td>\n",
       "      <td>True</td>\n",
       "      <td>NaN</td>\n",
       "      <td>NaN</td>\n",
       "      <td>Yes</td>\n",
       "      <td>NaT</td>\n",
       "      <td>NaT</td>\n",
       "    </tr>\n",
       "    <tr>\n",
       "      <th>5895</th>\n",
       "      <td>a100005933</td>\n",
       "      <td>2018-01-15</td>\n",
       "      <td>Email</td>\n",
       "      <td>control</td>\n",
       "      <td>False</td>\n",
       "      <td>English</td>\n",
       "      <td>English</td>\n",
       "      <td>19-24 years</td>\n",
       "      <td>NaT</td>\n",
       "      <td>NaT</td>\n",
       "      <td>NaN</td>\n",
       "      <td>True</td>\n",
       "      <td>NaN</td>\n",
       "      <td>NaN</td>\n",
       "      <td>Yes</td>\n",
       "      <td>NaT</td>\n",
       "      <td>NaT</td>\n",
       "    </tr>\n",
       "  </tbody>\n",
       "</table>\n",
       "</div>"
      ],
      "text/plain": [
       "         user_id date_served marketing_channel          variant  converted  \\\n",
       "4638  a100002795  2018-01-21         House Ads          control      False   \n",
       "4621  a100002778  2018-01-19         Instagram          control      False   \n",
       "5478  a100003614  2018-01-29         House Ads          control      False   \n",
       "4499  a100002656  2018-01-01          Facebook          control      False   \n",
       "6522  a100004246  2018-01-08          Facebook  personalization      False   \n",
       "7438  a100004704  2018-01-11         House Ads  personalization      False   \n",
       "7753  a100004967  2018-01-29         House Ads  personalization      False   \n",
       "4894  a100003051  2018-01-27         Instagram          control      False   \n",
       "4755  a100002912  2018-01-07         House Ads          control      False   \n",
       "5895  a100005933  2018-01-15             Email          control      False   \n",
       "\n",
       "     language_displayed language_preferred    age_group date_subscribed  \\\n",
       "4638            English            English  30-36 years             NaT   \n",
       "4621            English            English  36-45 years             NaT   \n",
       "5478            English             Arabic  36-45 years             NaT   \n",
       "4499            English            English  45-55 years             NaT   \n",
       "6522            English            English  24-30 years             NaT   \n",
       "7438            English            English  45-55 years             NaT   \n",
       "7753            English            English  24-30 years             NaT   \n",
       "4894            English            English  24-30 years             NaT   \n",
       "4755            English            English    55+ years             NaT   \n",
       "5895            English            English  19-24 years             NaT   \n",
       "\n",
       "     date_canceled subscribing_channel  is_retained  DoW  channel_code  \\\n",
       "4638           NaT                 NaN         True  NaN           NaN   \n",
       "4621           NaT                 NaN         True  NaN           NaN   \n",
       "5478           NaT                 NaN         True  NaN           NaN   \n",
       "4499           NaT                 NaN         True  NaN           NaN   \n",
       "6522           NaT                 NaN         True  NaN           NaN   \n",
       "7438           NaT                 NaN         True  NaN           NaN   \n",
       "7753           NaT                 NaN         True  NaN           NaN   \n",
       "4894           NaT                 NaN         True  NaN           NaN   \n",
       "4755           NaT                 NaN         True  NaN           NaN   \n",
       "5895           NaT                 NaN         True  NaN           NaN   \n",
       "\n",
       "     is_correct_lang served_to_subscribed subscribed_to_canceled  \n",
       "4638             Yes                  NaT                    NaT  \n",
       "4621             Yes                  NaT                    NaT  \n",
       "5478              No                  NaT                    NaT  \n",
       "4499             Yes                  NaT                    NaT  \n",
       "6522             Yes                  NaT                    NaT  \n",
       "7438             Yes                  NaT                    NaT  \n",
       "7753             Yes                  NaT                    NaT  \n",
       "4894             Yes                  NaT                    NaT  \n",
       "4755             Yes                  NaT                    NaT  \n",
       "5895             Yes                  NaT                    NaT  "
      ]
     },
     "execution_count": 508,
     "metadata": {},
     "output_type": "execute_result"
    }
   ],
   "source": [
    "# feature counting days from ad serve to subscription\n",
    "df['served_to_subscribed'] = df['date_subscribed'] - df['date_served']\n",
    "# feature counting days from subscription date to cancellation date\n",
    "df['subscribed_to_canceled'] = df['date_canceled'] - df['date_subscribed']\n",
    "\n",
    "# drop all rows that have negative timedeltas because logically, it doesn't make sense and doesn't help with analysis now\n",
    "neg_d_index = df[df['served_to_subscribed'] < pd.Timedelta(0)].index\n",
    "neg_d_index2 = df[df['subscribed_to_canceled'] < pd.Timedelta(0)].index\n",
    "df.drop(neg_d_index, inplace=True)\n",
    "df.drop(neg_d_index2, inplace=True)\n",
    "\n",
    "df.info()\n",
    "df.sample(10)"
   ]
  },
  {
   "cell_type": "code",
   "execution_count": 509,
   "id": "2aaaba16",
   "metadata": {},
   "outputs": [],
   "source": [
    "# drop the ones i've identified for dropping\n",
    "df.dropna(subset=['date_served', 'marketing_channel'], inplace=True)"
   ]
  },
  {
   "cell_type": "code",
   "execution_count": 510,
   "id": "51dd751e",
   "metadata": {},
   "outputs": [
    {
     "data": {
      "text/plain": [
       "user_id                      0\n",
       "date_served                  0\n",
       "marketing_channel            0\n",
       "variant                      0\n",
       "converted                    0\n",
       "language_displayed           0\n",
       "language_preferred           0\n",
       "age_group                    0\n",
       "date_subscribed           8165\n",
       "date_canceled             9306\n",
       "subscribing_channel       8165\n",
       "is_retained                  0\n",
       "DoW                       8165\n",
       "channel_code              8165\n",
       "is_correct_lang              0\n",
       "served_to_subscribed      8165\n",
       "subscribed_to_canceled    9306\n",
       "dtype: int64"
      ]
     },
     "execution_count": 510,
     "metadata": {},
     "output_type": "execute_result"
    }
   ],
   "source": [
    "df.isna().sum()"
   ]
  },
  {
   "cell_type": "code",
   "execution_count": 511,
   "id": "f335f101",
   "metadata": {
    "scrolled": true
   },
   "outputs": [
    {
     "data": {
      "text/html": [
       "<div>\n",
       "<style scoped>\n",
       "    .dataframe tbody tr th:only-of-type {\n",
       "        vertical-align: middle;\n",
       "    }\n",
       "\n",
       "    .dataframe tbody tr th {\n",
       "        vertical-align: top;\n",
       "    }\n",
       "\n",
       "    .dataframe thead th {\n",
       "        text-align: right;\n",
       "    }\n",
       "</style>\n",
       "<table border=\"1\" class=\"dataframe\">\n",
       "  <thead>\n",
       "    <tr style=\"text-align: right;\">\n",
       "      <th></th>\n",
       "      <th>user_id</th>\n",
       "      <th>date_served</th>\n",
       "      <th>marketing_channel</th>\n",
       "      <th>variant</th>\n",
       "      <th>converted</th>\n",
       "      <th>language_displayed</th>\n",
       "      <th>language_preferred</th>\n",
       "      <th>age_group</th>\n",
       "      <th>date_subscribed</th>\n",
       "      <th>date_canceled</th>\n",
       "      <th>subscribing_channel</th>\n",
       "      <th>is_retained</th>\n",
       "      <th>DoW</th>\n",
       "      <th>channel_code</th>\n",
       "      <th>is_correct_lang</th>\n",
       "      <th>served_to_subscribed</th>\n",
       "      <th>subscribed_to_canceled</th>\n",
       "    </tr>\n",
       "  </thead>\n",
       "  <tbody>\n",
       "    <tr>\n",
       "      <th>0</th>\n",
       "      <td>a100000029</td>\n",
       "      <td>2018-01-01</td>\n",
       "      <td>House Ads</td>\n",
       "      <td>personalization</td>\n",
       "      <td>True</td>\n",
       "      <td>English</td>\n",
       "      <td>English</td>\n",
       "      <td>0-18 years</td>\n",
       "      <td>2018-01-01</td>\n",
       "      <td>NaT</td>\n",
       "      <td>House Ads</td>\n",
       "      <td>True</td>\n",
       "      <td>0.0</td>\n",
       "      <td>1.0</td>\n",
       "      <td>1</td>\n",
       "      <td>0 days</td>\n",
       "      <td>NaT</td>\n",
       "    </tr>\n",
       "    <tr>\n",
       "      <th>1</th>\n",
       "      <td>a100000030</td>\n",
       "      <td>2018-01-01</td>\n",
       "      <td>House Ads</td>\n",
       "      <td>personalization</td>\n",
       "      <td>True</td>\n",
       "      <td>English</td>\n",
       "      <td>English</td>\n",
       "      <td>19-24 years</td>\n",
       "      <td>2018-01-01</td>\n",
       "      <td>NaT</td>\n",
       "      <td>House Ads</td>\n",
       "      <td>True</td>\n",
       "      <td>0.0</td>\n",
       "      <td>1.0</td>\n",
       "      <td>1</td>\n",
       "      <td>0 days</td>\n",
       "      <td>NaT</td>\n",
       "    </tr>\n",
       "    <tr>\n",
       "      <th>2</th>\n",
       "      <td>a100000031</td>\n",
       "      <td>2018-01-01</td>\n",
       "      <td>House Ads</td>\n",
       "      <td>personalization</td>\n",
       "      <td>True</td>\n",
       "      <td>English</td>\n",
       "      <td>English</td>\n",
       "      <td>24-30 years</td>\n",
       "      <td>2018-01-01</td>\n",
       "      <td>NaT</td>\n",
       "      <td>House Ads</td>\n",
       "      <td>True</td>\n",
       "      <td>0.0</td>\n",
       "      <td>1.0</td>\n",
       "      <td>1</td>\n",
       "      <td>0 days</td>\n",
       "      <td>NaT</td>\n",
       "    </tr>\n",
       "  </tbody>\n",
       "</table>\n",
       "</div>"
      ],
      "text/plain": [
       "      user_id date_served marketing_channel          variant  converted  \\\n",
       "0  a100000029  2018-01-01         House Ads  personalization       True   \n",
       "1  a100000030  2018-01-01         House Ads  personalization       True   \n",
       "2  a100000031  2018-01-01         House Ads  personalization       True   \n",
       "\n",
       "  language_displayed language_preferred    age_group date_subscribed  \\\n",
       "0            English            English   0-18 years      2018-01-01   \n",
       "1            English            English  19-24 years      2018-01-01   \n",
       "2            English            English  24-30 years      2018-01-01   \n",
       "\n",
       "  date_canceled subscribing_channel  is_retained  DoW  channel_code  \\\n",
       "0           NaT           House Ads         True  0.0           1.0   \n",
       "1           NaT           House Ads         True  0.0           1.0   \n",
       "2           NaT           House Ads         True  0.0           1.0   \n",
       "\n",
       "   is_correct_lang served_to_subscribed subscribed_to_canceled  \n",
       "0                1               0 days                    NaT  \n",
       "1                1               0 days                    NaT  \n",
       "2                1               0 days                    NaT  "
      ]
     },
     "execution_count": 511,
     "metadata": {},
     "output_type": "execute_result"
    }
   ],
   "source": [
    "# remap `is_correct_lang` to bool\n",
    "df['is_correct_lang'] = df['is_correct_lang'].map( {'Yes':1, 'No':0} )\n",
    "df.head(3)"
   ]
  },
  {
   "cell_type": "code",
   "execution_count": 512,
   "id": "51dfb7e4",
   "metadata": {
    "scrolled": true
   },
   "outputs": [
    {
     "data": {
      "text/html": [
       "<div>\n",
       "<style scoped>\n",
       "    .dataframe tbody tr th:only-of-type {\n",
       "        vertical-align: middle;\n",
       "    }\n",
       "\n",
       "    .dataframe tbody tr th {\n",
       "        vertical-align: top;\n",
       "    }\n",
       "\n",
       "    .dataframe thead th {\n",
       "        text-align: right;\n",
       "    }\n",
       "</style>\n",
       "<table border=\"1\" class=\"dataframe\">\n",
       "  <thead>\n",
       "    <tr style=\"text-align: right;\">\n",
       "      <th></th>\n",
       "      <th>user_id</th>\n",
       "      <th>date_served</th>\n",
       "      <th>marketing_channel</th>\n",
       "      <th>variant</th>\n",
       "      <th>converted</th>\n",
       "      <th>language_displayed</th>\n",
       "      <th>language_preferred</th>\n",
       "      <th>age_group</th>\n",
       "      <th>date_subscribed</th>\n",
       "      <th>date_canceled</th>\n",
       "      <th>subscribing_channel</th>\n",
       "      <th>is_retained</th>\n",
       "      <th>DoW</th>\n",
       "      <th>channel_code</th>\n",
       "      <th>is_correct_lang</th>\n",
       "      <th>served_to_subscribed</th>\n",
       "      <th>subscribed_to_canceled</th>\n",
       "      <th>day_served</th>\n",
       "      <th>dow_served</th>\n",
       "      <th>month_served</th>\n",
       "    </tr>\n",
       "  </thead>\n",
       "  <tbody>\n",
       "    <tr>\n",
       "      <th>729</th>\n",
       "      <td>a100000831</td>\n",
       "      <td>2018-01-23</td>\n",
       "      <td>Instagram</td>\n",
       "      <td>personalization</td>\n",
       "      <td>True</td>\n",
       "      <td>English</td>\n",
       "      <td>English</td>\n",
       "      <td>0-18 years</td>\n",
       "      <td>2018-01-23</td>\n",
       "      <td>2018-04-17</td>\n",
       "      <td>Instagram</td>\n",
       "      <td>False</td>\n",
       "      <td>1.0</td>\n",
       "      <td>2.0</td>\n",
       "      <td>1</td>\n",
       "      <td>0 days</td>\n",
       "      <td>84 days</td>\n",
       "      <td>Tuesday</td>\n",
       "      <td>1</td>\n",
       "      <td>1</td>\n",
       "    </tr>\n",
       "    <tr>\n",
       "      <th>9452</th>\n",
       "      <td>a100006749</td>\n",
       "      <td>2018-01-28</td>\n",
       "      <td>House Ads</td>\n",
       "      <td>personalization</td>\n",
       "      <td>False</td>\n",
       "      <td>English</td>\n",
       "      <td>English</td>\n",
       "      <td>55+ years</td>\n",
       "      <td>NaT</td>\n",
       "      <td>NaT</td>\n",
       "      <td>NaN</td>\n",
       "      <td>True</td>\n",
       "      <td>NaN</td>\n",
       "      <td>NaN</td>\n",
       "      <td>1</td>\n",
       "      <td>NaT</td>\n",
       "      <td>NaT</td>\n",
       "      <td>Sunday</td>\n",
       "      <td>6</td>\n",
       "      <td>1</td>\n",
       "    </tr>\n",
       "    <tr>\n",
       "      <th>1269</th>\n",
       "      <td>a100001091</td>\n",
       "      <td>2018-01-13</td>\n",
       "      <td>Push</td>\n",
       "      <td>personalization</td>\n",
       "      <td>True</td>\n",
       "      <td>English</td>\n",
       "      <td>English</td>\n",
       "      <td>19-24 years</td>\n",
       "      <td>2018-01-13</td>\n",
       "      <td>2018-01-13</td>\n",
       "      <td>Push</td>\n",
       "      <td>False</td>\n",
       "      <td>5.0</td>\n",
       "      <td>5.0</td>\n",
       "      <td>1</td>\n",
       "      <td>0 days</td>\n",
       "      <td>0 days</td>\n",
       "      <td>Saturday</td>\n",
       "      <td>5</td>\n",
       "      <td>1</td>\n",
       "    </tr>\n",
       "  </tbody>\n",
       "</table>\n",
       "</div>"
      ],
      "text/plain": [
       "         user_id date_served marketing_channel          variant  converted  \\\n",
       "729   a100000831  2018-01-23         Instagram  personalization       True   \n",
       "9452  a100006749  2018-01-28         House Ads  personalization      False   \n",
       "1269  a100001091  2018-01-13              Push  personalization       True   \n",
       "\n",
       "     language_displayed language_preferred    age_group date_subscribed  \\\n",
       "729             English            English   0-18 years      2018-01-23   \n",
       "9452            English            English    55+ years             NaT   \n",
       "1269            English            English  19-24 years      2018-01-13   \n",
       "\n",
       "     date_canceled subscribing_channel  is_retained  DoW  channel_code  \\\n",
       "729     2018-04-17           Instagram        False  1.0           2.0   \n",
       "9452           NaT                 NaN         True  NaN           NaN   \n",
       "1269    2018-01-13                Push        False  5.0           5.0   \n",
       "\n",
       "      is_correct_lang served_to_subscribed subscribed_to_canceled day_served  \\\n",
       "729                 1               0 days                84 days    Tuesday   \n",
       "9452                1                  NaT                    NaT     Sunday   \n",
       "1269                1               0 days                 0 days   Saturday   \n",
       "\n",
       "      dow_served  month_served  \n",
       "729            1             1  \n",
       "9452           6             1  \n",
       "1269           5             1  "
      ]
     },
     "execution_count": 512,
     "metadata": {},
     "output_type": "execute_result"
    }
   ],
   "source": [
    "df['day_served'] = df['date_served'].dt.day_name()\n",
    "df['dow_served'] = df['date_served'].dt.day_of_week\n",
    "df['month_served'] = df['date_served'].dt.month\n",
    "df.sample(3)"
   ]
  },
  {
   "cell_type": "code",
   "execution_count": 513,
   "id": "310539d2",
   "metadata": {},
   "outputs": [
    {
     "data": {
      "text/html": [
       "<div>\n",
       "<style scoped>\n",
       "    .dataframe tbody tr th:only-of-type {\n",
       "        vertical-align: middle;\n",
       "    }\n",
       "\n",
       "    .dataframe tbody tr th {\n",
       "        vertical-align: top;\n",
       "    }\n",
       "\n",
       "    .dataframe thead th {\n",
       "        text-align: right;\n",
       "    }\n",
       "</style>\n",
       "<table border=\"1\" class=\"dataframe\">\n",
       "  <thead>\n",
       "    <tr style=\"text-align: right;\">\n",
       "      <th></th>\n",
       "      <th>user_id</th>\n",
       "      <th>date_served</th>\n",
       "      <th>marketing_channel</th>\n",
       "      <th>variant</th>\n",
       "      <th>converted</th>\n",
       "      <th>language_displayed</th>\n",
       "      <th>language_preferred</th>\n",
       "      <th>age_group</th>\n",
       "      <th>date_subscribed</th>\n",
       "      <th>date_canceled</th>\n",
       "      <th>...</th>\n",
       "      <th>DoW</th>\n",
       "      <th>channel_code</th>\n",
       "      <th>is_correct_lang</th>\n",
       "      <th>served_to_subscribed</th>\n",
       "      <th>subscribed_to_canceled</th>\n",
       "      <th>day_served</th>\n",
       "      <th>dow_served</th>\n",
       "      <th>month_served</th>\n",
       "      <th>day_subscribed</th>\n",
       "      <th>month_subscribed</th>\n",
       "    </tr>\n",
       "  </thead>\n",
       "  <tbody>\n",
       "    <tr>\n",
       "      <th>339</th>\n",
       "      <td>a100000496</td>\n",
       "      <td>2018-01-14</td>\n",
       "      <td>House Ads</td>\n",
       "      <td>personalization</td>\n",
       "      <td>True</td>\n",
       "      <td>English</td>\n",
       "      <td>English</td>\n",
       "      <td>36-45 years</td>\n",
       "      <td>2018-01-14</td>\n",
       "      <td>NaT</td>\n",
       "      <td>...</td>\n",
       "      <td>6.0</td>\n",
       "      <td>1.0</td>\n",
       "      <td>1</td>\n",
       "      <td>0 days</td>\n",
       "      <td>NaT</td>\n",
       "      <td>Sunday</td>\n",
       "      <td>6</td>\n",
       "      <td>1</td>\n",
       "      <td>Sunday</td>\n",
       "      <td>1.0</td>\n",
       "    </tr>\n",
       "    <tr>\n",
       "      <th>8667</th>\n",
       "      <td>a100005830</td>\n",
       "      <td>2018-01-19</td>\n",
       "      <td>Facebook</td>\n",
       "      <td>personalization</td>\n",
       "      <td>False</td>\n",
       "      <td>English</td>\n",
       "      <td>English</td>\n",
       "      <td>36-45 years</td>\n",
       "      <td>NaT</td>\n",
       "      <td>NaT</td>\n",
       "      <td>...</td>\n",
       "      <td>NaN</td>\n",
       "      <td>NaN</td>\n",
       "      <td>1</td>\n",
       "      <td>NaT</td>\n",
       "      <td>NaT</td>\n",
       "      <td>Friday</td>\n",
       "      <td>4</td>\n",
       "      <td>1</td>\n",
       "      <td>NaN</td>\n",
       "      <td>NaN</td>\n",
       "    </tr>\n",
       "    <tr>\n",
       "      <th>3941</th>\n",
       "      <td>a100002278</td>\n",
       "      <td>2018-01-24</td>\n",
       "      <td>Facebook</td>\n",
       "      <td>control</td>\n",
       "      <td>False</td>\n",
       "      <td>English</td>\n",
       "      <td>English</td>\n",
       "      <td>30-36 years</td>\n",
       "      <td>NaT</td>\n",
       "      <td>NaT</td>\n",
       "      <td>...</td>\n",
       "      <td>NaN</td>\n",
       "      <td>NaN</td>\n",
       "      <td>1</td>\n",
       "      <td>NaT</td>\n",
       "      <td>NaT</td>\n",
       "      <td>Wednesday</td>\n",
       "      <td>2</td>\n",
       "      <td>1</td>\n",
       "      <td>NaN</td>\n",
       "      <td>NaN</td>\n",
       "    </tr>\n",
       "  </tbody>\n",
       "</table>\n",
       "<p>3 rows × 22 columns</p>\n",
       "</div>"
      ],
      "text/plain": [
       "         user_id date_served marketing_channel          variant  converted  \\\n",
       "339   a100000496  2018-01-14         House Ads  personalization       True   \n",
       "8667  a100005830  2018-01-19          Facebook  personalization      False   \n",
       "3941  a100002278  2018-01-24          Facebook          control      False   \n",
       "\n",
       "     language_displayed language_preferred    age_group date_subscribed  \\\n",
       "339             English            English  36-45 years      2018-01-14   \n",
       "8667            English            English  36-45 years             NaT   \n",
       "3941            English            English  30-36 years             NaT   \n",
       "\n",
       "     date_canceled  ...  DoW  channel_code  is_correct_lang  \\\n",
       "339            NaT  ...  6.0           1.0                1   \n",
       "8667           NaT  ...  NaN           NaN                1   \n",
       "3941           NaT  ...  NaN           NaN                1   \n",
       "\n",
       "      served_to_subscribed  subscribed_to_canceled day_served dow_served  \\\n",
       "339                 0 days                     NaT     Sunday          6   \n",
       "8667                   NaT                     NaT     Friday          4   \n",
       "3941                   NaT                     NaT  Wednesday          2   \n",
       "\n",
       "     month_served  day_subscribed  month_subscribed  \n",
       "339             1          Sunday               1.0  \n",
       "8667            1             NaN               NaN  \n",
       "3941            1             NaN               NaN  \n",
       "\n",
       "[3 rows x 22 columns]"
      ]
     },
     "execution_count": 513,
     "metadata": {},
     "output_type": "execute_result"
    }
   ],
   "source": [
    "df['day_subscribed'] = df['date_subscribed'].dt.day_name()\n",
    "#df['dow_subscribed'] = df['date_subscribed'].dt.day_of_week\n",
    "df['month_subscribed'] = df['date_subscribed'].dt.month\n",
    "df.sample(3)"
   ]
  },
  {
   "cell_type": "code",
   "execution_count": 514,
   "id": "8807413f",
   "metadata": {},
   "outputs": [
    {
     "data": {
      "text/html": [
       "<div>\n",
       "<style scoped>\n",
       "    .dataframe tbody tr th:only-of-type {\n",
       "        vertical-align: middle;\n",
       "    }\n",
       "\n",
       "    .dataframe tbody tr th {\n",
       "        vertical-align: top;\n",
       "    }\n",
       "\n",
       "    .dataframe thead th {\n",
       "        text-align: right;\n",
       "    }\n",
       "</style>\n",
       "<table border=\"1\" class=\"dataframe\">\n",
       "  <thead>\n",
       "    <tr style=\"text-align: right;\">\n",
       "      <th></th>\n",
       "      <th>user_id</th>\n",
       "      <th>date_served</th>\n",
       "      <th>marketing_channel</th>\n",
       "      <th>variant</th>\n",
       "      <th>converted</th>\n",
       "      <th>language_displayed</th>\n",
       "      <th>language_preferred</th>\n",
       "      <th>age_group</th>\n",
       "      <th>date_subscribed</th>\n",
       "      <th>date_canceled</th>\n",
       "      <th>...</th>\n",
       "      <th>served_to_subscribed</th>\n",
       "      <th>subscribed_to_canceled</th>\n",
       "      <th>day_served</th>\n",
       "      <th>dow_served</th>\n",
       "      <th>month_served</th>\n",
       "      <th>day_subscribed</th>\n",
       "      <th>month_subscribed</th>\n",
       "      <th>day_canceled</th>\n",
       "      <th>dow_canceled</th>\n",
       "      <th>month_canceled</th>\n",
       "    </tr>\n",
       "  </thead>\n",
       "  <tbody>\n",
       "    <tr>\n",
       "      <th>6994</th>\n",
       "      <td>a100004482</td>\n",
       "      <td>2018-01-03</td>\n",
       "      <td>House Ads</td>\n",
       "      <td>personalization</td>\n",
       "      <td>False</td>\n",
       "      <td>English</td>\n",
       "      <td>English</td>\n",
       "      <td>0-18 years</td>\n",
       "      <td>NaT</td>\n",
       "      <td>NaT</td>\n",
       "      <td>...</td>\n",
       "      <td>NaT</td>\n",
       "      <td>NaT</td>\n",
       "      <td>Wednesday</td>\n",
       "      <td>2</td>\n",
       "      <td>1</td>\n",
       "      <td>NaN</td>\n",
       "      <td>NaN</td>\n",
       "      <td>NaN</td>\n",
       "      <td>NaN</td>\n",
       "      <td>NaN</td>\n",
       "    </tr>\n",
       "    <tr>\n",
       "      <th>8949</th>\n",
       "      <td>a100006246</td>\n",
       "      <td>2018-01-02</td>\n",
       "      <td>Facebook</td>\n",
       "      <td>personalization</td>\n",
       "      <td>False</td>\n",
       "      <td>English</td>\n",
       "      <td>English</td>\n",
       "      <td>0-18 years</td>\n",
       "      <td>NaT</td>\n",
       "      <td>NaT</td>\n",
       "      <td>...</td>\n",
       "      <td>NaT</td>\n",
       "      <td>NaT</td>\n",
       "      <td>Tuesday</td>\n",
       "      <td>1</td>\n",
       "      <td>1</td>\n",
       "      <td>NaN</td>\n",
       "      <td>NaN</td>\n",
       "      <td>NaN</td>\n",
       "      <td>NaN</td>\n",
       "      <td>NaN</td>\n",
       "    </tr>\n",
       "    <tr>\n",
       "      <th>4517</th>\n",
       "      <td>a100002674</td>\n",
       "      <td>2018-01-04</td>\n",
       "      <td>Facebook</td>\n",
       "      <td>control</td>\n",
       "      <td>False</td>\n",
       "      <td>English</td>\n",
       "      <td>English</td>\n",
       "      <td>45-55 years</td>\n",
       "      <td>NaT</td>\n",
       "      <td>NaT</td>\n",
       "      <td>...</td>\n",
       "      <td>NaT</td>\n",
       "      <td>NaT</td>\n",
       "      <td>Thursday</td>\n",
       "      <td>3</td>\n",
       "      <td>1</td>\n",
       "      <td>NaN</td>\n",
       "      <td>NaN</td>\n",
       "      <td>NaN</td>\n",
       "      <td>NaN</td>\n",
       "      <td>NaN</td>\n",
       "    </tr>\n",
       "  </tbody>\n",
       "</table>\n",
       "<p>3 rows × 25 columns</p>\n",
       "</div>"
      ],
      "text/plain": [
       "         user_id date_served marketing_channel          variant  converted  \\\n",
       "6994  a100004482  2018-01-03         House Ads  personalization      False   \n",
       "8949  a100006246  2018-01-02          Facebook  personalization      False   \n",
       "4517  a100002674  2018-01-04          Facebook          control      False   \n",
       "\n",
       "     language_displayed language_preferred    age_group date_subscribed  \\\n",
       "6994            English            English   0-18 years             NaT   \n",
       "8949            English            English   0-18 years             NaT   \n",
       "4517            English            English  45-55 years             NaT   \n",
       "\n",
       "     date_canceled  ... served_to_subscribed  subscribed_to_canceled  \\\n",
       "6994           NaT  ...                  NaT                     NaT   \n",
       "8949           NaT  ...                  NaT                     NaT   \n",
       "4517           NaT  ...                  NaT                     NaT   \n",
       "\n",
       "      day_served  dow_served  month_served day_subscribed month_subscribed  \\\n",
       "6994   Wednesday           2             1            NaN              NaN   \n",
       "8949     Tuesday           1             1            NaN              NaN   \n",
       "4517    Thursday           3             1            NaN              NaN   \n",
       "\n",
       "     day_canceled  dow_canceled  month_canceled  \n",
       "6994          NaN           NaN             NaN  \n",
       "8949          NaN           NaN             NaN  \n",
       "4517          NaN           NaN             NaN  \n",
       "\n",
       "[3 rows x 25 columns]"
      ]
     },
     "execution_count": 514,
     "metadata": {},
     "output_type": "execute_result"
    }
   ],
   "source": [
    "df['day_canceled'] = df['date_canceled'].dt.day_name()\n",
    "df['dow_canceled'] = df['date_canceled'].dt.day_of_week\n",
    "df['month_canceled'] = df['date_canceled'].dt.month\n",
    "df.sample(3)"
   ]
  },
  {
   "cell_type": "code",
   "execution_count": 515,
   "id": "b17c0252",
   "metadata": {},
   "outputs": [
    {
     "data": {
      "text/html": [
       "<div>\n",
       "<style scoped>\n",
       "    .dataframe tbody tr th:only-of-type {\n",
       "        vertical-align: middle;\n",
       "    }\n",
       "\n",
       "    .dataframe tbody tr th {\n",
       "        vertical-align: top;\n",
       "    }\n",
       "\n",
       "    .dataframe thead th {\n",
       "        text-align: right;\n",
       "    }\n",
       "</style>\n",
       "<table border=\"1\" class=\"dataframe\">\n",
       "  <thead>\n",
       "    <tr style=\"text-align: right;\">\n",
       "      <th></th>\n",
       "      <th>user_id</th>\n",
       "      <th>date_served</th>\n",
       "      <th>marketing_channel</th>\n",
       "      <th>variant</th>\n",
       "      <th>converted</th>\n",
       "      <th>language_displayed</th>\n",
       "      <th>language_preferred</th>\n",
       "      <th>age_group</th>\n",
       "      <th>date_subscribed</th>\n",
       "      <th>date_canceled</th>\n",
       "      <th>...</th>\n",
       "      <th>month_served</th>\n",
       "      <th>day_subscribed</th>\n",
       "      <th>month_subscribed</th>\n",
       "      <th>day_canceled</th>\n",
       "      <th>dow_canceled</th>\n",
       "      <th>month_canceled</th>\n",
       "      <th>variant_code</th>\n",
       "      <th>mc_code</th>\n",
       "      <th>ld_code</th>\n",
       "      <th>lp_code</th>\n",
       "    </tr>\n",
       "  </thead>\n",
       "  <tbody>\n",
       "    <tr>\n",
       "      <th>8129</th>\n",
       "      <td>a100005343</td>\n",
       "      <td>2018-01-01</td>\n",
       "      <td>House Ads</td>\n",
       "      <td>personalization</td>\n",
       "      <td>False</td>\n",
       "      <td>English</td>\n",
       "      <td>English</td>\n",
       "      <td>0-18 years</td>\n",
       "      <td>NaT</td>\n",
       "      <td>NaT</td>\n",
       "      <td>...</td>\n",
       "      <td>1</td>\n",
       "      <td>NaN</td>\n",
       "      <td>NaN</td>\n",
       "      <td>NaN</td>\n",
       "      <td>NaN</td>\n",
       "      <td>NaN</td>\n",
       "      <td>1</td>\n",
       "      <td>3</td>\n",
       "      <td>2</td>\n",
       "      <td>2</td>\n",
       "    </tr>\n",
       "    <tr>\n",
       "      <th>6693</th>\n",
       "      <td>a100004332</td>\n",
       "      <td>2018-01-10</td>\n",
       "      <td>Instagram</td>\n",
       "      <td>personalization</td>\n",
       "      <td>False</td>\n",
       "      <td>English</td>\n",
       "      <td>English</td>\n",
       "      <td>36-45 years</td>\n",
       "      <td>NaT</td>\n",
       "      <td>NaT</td>\n",
       "      <td>...</td>\n",
       "      <td>1</td>\n",
       "      <td>NaN</td>\n",
       "      <td>NaN</td>\n",
       "      <td>NaN</td>\n",
       "      <td>NaN</td>\n",
       "      <td>NaN</td>\n",
       "      <td>1</td>\n",
       "      <td>4</td>\n",
       "      <td>2</td>\n",
       "      <td>2</td>\n",
       "    </tr>\n",
       "    <tr>\n",
       "      <th>3419</th>\n",
       "      <td>a100002025</td>\n",
       "      <td>2018-01-04</td>\n",
       "      <td>House Ads</td>\n",
       "      <td>control</td>\n",
       "      <td>False</td>\n",
       "      <td>English</td>\n",
       "      <td>English</td>\n",
       "      <td>24-30 years</td>\n",
       "      <td>NaT</td>\n",
       "      <td>NaT</td>\n",
       "      <td>...</td>\n",
       "      <td>1</td>\n",
       "      <td>NaN</td>\n",
       "      <td>NaN</td>\n",
       "      <td>NaN</td>\n",
       "      <td>NaN</td>\n",
       "      <td>NaN</td>\n",
       "      <td>0</td>\n",
       "      <td>3</td>\n",
       "      <td>2</td>\n",
       "      <td>2</td>\n",
       "    </tr>\n",
       "  </tbody>\n",
       "</table>\n",
       "<p>3 rows × 29 columns</p>\n",
       "</div>"
      ],
      "text/plain": [
       "         user_id date_served marketing_channel          variant  converted  \\\n",
       "8129  a100005343  2018-01-01         House Ads  personalization      False   \n",
       "6693  a100004332  2018-01-10         Instagram  personalization      False   \n",
       "3419  a100002025  2018-01-04         House Ads          control      False   \n",
       "\n",
       "     language_displayed language_preferred    age_group date_subscribed  \\\n",
       "8129            English            English   0-18 years             NaT   \n",
       "6693            English            English  36-45 years             NaT   \n",
       "3419            English            English  24-30 years             NaT   \n",
       "\n",
       "     date_canceled  ... month_served  day_subscribed  month_subscribed  \\\n",
       "8129           NaT  ...            1             NaN               NaN   \n",
       "6693           NaT  ...            1             NaN               NaN   \n",
       "3419           NaT  ...            1             NaN               NaN   \n",
       "\n",
       "      day_canceled  dow_canceled month_canceled variant_code mc_code  ld_code  \\\n",
       "8129           NaN           NaN            NaN            1       3        2   \n",
       "6693           NaN           NaN            NaN            1       4        2   \n",
       "3419           NaN           NaN            NaN            0       3        2   \n",
       "\n",
       "      lp_code  \n",
       "8129        2  \n",
       "6693        2  \n",
       "3419        2  \n",
       "\n",
       "[3 rows x 29 columns]"
      ]
     },
     "execution_count": 515,
     "metadata": {},
     "output_type": "execute_result"
    }
   ],
   "source": [
    "# try converting categorical to numerical for exploration purposes\n",
    "df['variant_code'] = df['variant'].map( {'personalization':1, 'control':0} )\n",
    "df['mc_code'] = df['marketing_channel'].map( {'Email':1, 'Facebook':2, 'House Ads':3, 'Instagram':4, 'Push':0} )\n",
    "df['ld_code'] = df['language_displayed'].map( {'Arabic':1, 'English':2, 'German':3, 'Spanish':0} )\n",
    "df['lp_code'] = df['language_preferred'].map( {'Arabic':1, 'English':2, 'German':3, 'Spanish':0} )\n",
    "df.sample(3)"
   ]
  },
  {
   "cell_type": "code",
   "execution_count": 516,
   "id": "6ebc5661",
   "metadata": {},
   "outputs": [],
   "source": [
    "# find out if language matches\n",
    "df['lang_match'] = np.where(df['ld_code'] == df['lp_code'], True, False)"
   ]
  },
  {
   "cell_type": "code",
   "execution_count": 517,
   "id": "6027f2dd",
   "metadata": {},
   "outputs": [],
   "source": [
    "# create feature on retention rate\n",
    "df['retention_rct'] = df['is_retained']/df.groupby('age_group')['converted'].transform(sum) * 100"
   ]
  },
  {
   "cell_type": "markdown",
   "id": "5c85433c",
   "metadata": {},
   "source": [
    "### 4a. Explore correlation with numerical variable"
   ]
  },
  {
   "cell_type": "code",
   "execution_count": 518,
   "id": "35442088",
   "metadata": {},
   "outputs": [
    {
     "data": {
      "image/png": "[encoded data removed]",
      "text/plain": [
       "<Figure size 864x576 with 2 Axes>"
      ]
     },
     "metadata": {
      "needs_background": "light"
     },
     "output_type": "display_data"
    }
   ],
   "source": [
    "plt.figure(figsize=(12,8))\n",
    "sns.heatmap(df.corr(), annot=True)\n",
    "plt.tight_layout()"
   ]
  },
  {
   "cell_type": "markdown",
   "id": "dade35bb",
   "metadata": {},
   "source": [
    "Right off the bat, personalisation does influence ad conversion for audiences who ended up subscribing."
   ]
  },
  {
   "cell_type": "markdown",
   "id": "bbd69ee6",
   "metadata": {},
   "source": [
    "There is a definite correlation between conversion and retention.\n",
    "There is also a slight correlation between the subscribing channels and the retention of customers."
   ]
  },
  {
   "cell_type": "markdown",
   "id": "fd7c1275",
   "metadata": {},
   "source": [
    "Looking at correlations we can divide the data up into subgroups (within subgroups):\n",
    "1. Subscribed\n",
    "2. Cancelled\n",
    "\n",
    "And then comparing between variant groups. Perhaps, we can look into it further when comparing against categorical data"
   ]
  },
  {
   "cell_type": "code",
   "execution_count": 519,
   "id": "7d8d4966",
   "metadata": {},
   "outputs": [
    {
     "data": {
      "text/html": [
       "<div>\n",
       "<style scoped>\n",
       "    .dataframe tbody tr th:only-of-type {\n",
       "        vertical-align: middle;\n",
       "    }\n",
       "\n",
       "    .dataframe tbody tr th {\n",
       "        vertical-align: top;\n",
       "    }\n",
       "\n",
       "    .dataframe thead th {\n",
       "        text-align: right;\n",
       "    }\n",
       "</style>\n",
       "<table border=\"1\" class=\"dataframe\">\n",
       "  <thead>\n",
       "    <tr style=\"text-align: right;\">\n",
       "      <th></th>\n",
       "      <th>user_id</th>\n",
       "      <th>date_served</th>\n",
       "      <th>marketing_channel</th>\n",
       "      <th>variant</th>\n",
       "      <th>converted</th>\n",
       "      <th>language_displayed</th>\n",
       "      <th>language_preferred</th>\n",
       "      <th>age_group</th>\n",
       "      <th>date_subscribed</th>\n",
       "      <th>date_canceled</th>\n",
       "      <th>...</th>\n",
       "      <th>month_subscribed</th>\n",
       "      <th>day_canceled</th>\n",
       "      <th>dow_canceled</th>\n",
       "      <th>month_canceled</th>\n",
       "      <th>variant_code</th>\n",
       "      <th>mc_code</th>\n",
       "      <th>ld_code</th>\n",
       "      <th>lp_code</th>\n",
       "      <th>lang_match</th>\n",
       "      <th>retention_rct</th>\n",
       "    </tr>\n",
       "  </thead>\n",
       "  <tbody>\n",
       "    <tr>\n",
       "      <th>0</th>\n",
       "      <td>a100000029</td>\n",
       "      <td>2018-01-01</td>\n",
       "      <td>House Ads</td>\n",
       "      <td>personalization</td>\n",
       "      <td>True</td>\n",
       "      <td>English</td>\n",
       "      <td>English</td>\n",
       "      <td>0-18 years</td>\n",
       "      <td>2018-01-01</td>\n",
       "      <td>NaT</td>\n",
       "      <td>...</td>\n",
       "      <td>1.0</td>\n",
       "      <td>NaN</td>\n",
       "      <td>NaN</td>\n",
       "      <td>NaN</td>\n",
       "      <td>1</td>\n",
       "      <td>3</td>\n",
       "      <td>2</td>\n",
       "      <td>2</td>\n",
       "      <td>True</td>\n",
       "      <td>0.505051</td>\n",
       "    </tr>\n",
       "    <tr>\n",
       "      <th>1</th>\n",
       "      <td>a100000030</td>\n",
       "      <td>2018-01-01</td>\n",
       "      <td>House Ads</td>\n",
       "      <td>personalization</td>\n",
       "      <td>True</td>\n",
       "      <td>English</td>\n",
       "      <td>English</td>\n",
       "      <td>19-24 years</td>\n",
       "      <td>2018-01-01</td>\n",
       "      <td>NaT</td>\n",
       "      <td>...</td>\n",
       "      <td>1.0</td>\n",
       "      <td>NaN</td>\n",
       "      <td>NaN</td>\n",
       "      <td>NaN</td>\n",
       "      <td>1</td>\n",
       "      <td>3</td>\n",
       "      <td>2</td>\n",
       "      <td>2</td>\n",
       "      <td>True</td>\n",
       "      <td>0.321543</td>\n",
       "    </tr>\n",
       "    <tr>\n",
       "      <th>2</th>\n",
       "      <td>a100000031</td>\n",
       "      <td>2018-01-01</td>\n",
       "      <td>House Ads</td>\n",
       "      <td>personalization</td>\n",
       "      <td>True</td>\n",
       "      <td>English</td>\n",
       "      <td>English</td>\n",
       "      <td>24-30 years</td>\n",
       "      <td>2018-01-01</td>\n",
       "      <td>NaT</td>\n",
       "      <td>...</td>\n",
       "      <td>1.0</td>\n",
       "      <td>NaN</td>\n",
       "      <td>NaN</td>\n",
       "      <td>NaN</td>\n",
       "      <td>1</td>\n",
       "      <td>3</td>\n",
       "      <td>2</td>\n",
       "      <td>2</td>\n",
       "      <td>True</td>\n",
       "      <td>0.425532</td>\n",
       "    </tr>\n",
       "    <tr>\n",
       "      <th>3</th>\n",
       "      <td>a100000032</td>\n",
       "      <td>2018-01-01</td>\n",
       "      <td>House Ads</td>\n",
       "      <td>personalization</td>\n",
       "      <td>True</td>\n",
       "      <td>English</td>\n",
       "      <td>English</td>\n",
       "      <td>30-36 years</td>\n",
       "      <td>2018-01-01</td>\n",
       "      <td>NaT</td>\n",
       "      <td>...</td>\n",
       "      <td>1.0</td>\n",
       "      <td>NaN</td>\n",
       "      <td>NaN</td>\n",
       "      <td>NaN</td>\n",
       "      <td>1</td>\n",
       "      <td>3</td>\n",
       "      <td>2</td>\n",
       "      <td>2</td>\n",
       "      <td>True</td>\n",
       "      <td>1.265823</td>\n",
       "    </tr>\n",
       "    <tr>\n",
       "      <th>4</th>\n",
       "      <td>a100000033</td>\n",
       "      <td>2018-01-01</td>\n",
       "      <td>House Ads</td>\n",
       "      <td>personalization</td>\n",
       "      <td>True</td>\n",
       "      <td>English</td>\n",
       "      <td>English</td>\n",
       "      <td>36-45 years</td>\n",
       "      <td>2018-01-01</td>\n",
       "      <td>NaT</td>\n",
       "      <td>...</td>\n",
       "      <td>1.0</td>\n",
       "      <td>NaN</td>\n",
       "      <td>NaN</td>\n",
       "      <td>NaN</td>\n",
       "      <td>1</td>\n",
       "      <td>3</td>\n",
       "      <td>2</td>\n",
       "      <td>2</td>\n",
       "      <td>True</td>\n",
       "      <td>1.315789</td>\n",
       "    </tr>\n",
       "    <tr>\n",
       "      <th>...</th>\n",
       "      <td>...</td>\n",
       "      <td>...</td>\n",
       "      <td>...</td>\n",
       "      <td>...</td>\n",
       "      <td>...</td>\n",
       "      <td>...</td>\n",
       "      <td>...</td>\n",
       "      <td>...</td>\n",
       "      <td>...</td>\n",
       "      <td>...</td>\n",
       "      <td>...</td>\n",
       "      <td>...</td>\n",
       "      <td>...</td>\n",
       "      <td>...</td>\n",
       "      <td>...</td>\n",
       "      <td>...</td>\n",
       "      <td>...</td>\n",
       "      <td>...</td>\n",
       "      <td>...</td>\n",
       "      <td>...</td>\n",
       "      <td>...</td>\n",
       "    </tr>\n",
       "    <tr>\n",
       "      <th>10032</th>\n",
       "      <td>a100007290</td>\n",
       "      <td>2018-01-17</td>\n",
       "      <td>Email</td>\n",
       "      <td>control</td>\n",
       "      <td>True</td>\n",
       "      <td>German</td>\n",
       "      <td>German</td>\n",
       "      <td>45-55 years</td>\n",
       "      <td>2018-01-17</td>\n",
       "      <td>2018-01-24</td>\n",
       "      <td>...</td>\n",
       "      <td>1.0</td>\n",
       "      <td>Wednesday</td>\n",
       "      <td>2.0</td>\n",
       "      <td>1.0</td>\n",
       "      <td>0</td>\n",
       "      <td>1</td>\n",
       "      <td>3</td>\n",
       "      <td>3</td>\n",
       "      <td>True</td>\n",
       "      <td>0.000000</td>\n",
       "    </tr>\n",
       "    <tr>\n",
       "      <th>10033</th>\n",
       "      <td>a100007291</td>\n",
       "      <td>2018-01-17</td>\n",
       "      <td>Email</td>\n",
       "      <td>control</td>\n",
       "      <td>True</td>\n",
       "      <td>German</td>\n",
       "      <td>German</td>\n",
       "      <td>55+ years</td>\n",
       "      <td>2018-01-17</td>\n",
       "      <td>NaT</td>\n",
       "      <td>...</td>\n",
       "      <td>1.0</td>\n",
       "      <td>NaN</td>\n",
       "      <td>NaN</td>\n",
       "      <td>NaN</td>\n",
       "      <td>0</td>\n",
       "      <td>1</td>\n",
       "      <td>3</td>\n",
       "      <td>3</td>\n",
       "      <td>True</td>\n",
       "      <td>1.250000</td>\n",
       "    </tr>\n",
       "    <tr>\n",
       "      <th>10034</th>\n",
       "      <td>a100007292</td>\n",
       "      <td>2018-01-05</td>\n",
       "      <td>Instagram</td>\n",
       "      <td>control</td>\n",
       "      <td>False</td>\n",
       "      <td>German</td>\n",
       "      <td>German</td>\n",
       "      <td>55+ years</td>\n",
       "      <td>2018-01-17</td>\n",
       "      <td>NaT</td>\n",
       "      <td>...</td>\n",
       "      <td>1.0</td>\n",
       "      <td>NaN</td>\n",
       "      <td>NaN</td>\n",
       "      <td>NaN</td>\n",
       "      <td>0</td>\n",
       "      <td>4</td>\n",
       "      <td>3</td>\n",
       "      <td>3</td>\n",
       "      <td>True</td>\n",
       "      <td>1.250000</td>\n",
       "    </tr>\n",
       "    <tr>\n",
       "      <th>10035</th>\n",
       "      <td>a100007293</td>\n",
       "      <td>2018-01-17</td>\n",
       "      <td>Email</td>\n",
       "      <td>control</td>\n",
       "      <td>True</td>\n",
       "      <td>German</td>\n",
       "      <td>German</td>\n",
       "      <td>0-18 years</td>\n",
       "      <td>2018-01-17</td>\n",
       "      <td>NaT</td>\n",
       "      <td>...</td>\n",
       "      <td>1.0</td>\n",
       "      <td>NaN</td>\n",
       "      <td>NaN</td>\n",
       "      <td>NaN</td>\n",
       "      <td>0</td>\n",
       "      <td>1</td>\n",
       "      <td>3</td>\n",
       "      <td>3</td>\n",
       "      <td>True</td>\n",
       "      <td>0.505051</td>\n",
       "    </tr>\n",
       "    <tr>\n",
       "      <th>10036</th>\n",
       "      <td>a100007294</td>\n",
       "      <td>2018-01-06</td>\n",
       "      <td>Facebook</td>\n",
       "      <td>control</td>\n",
       "      <td>False</td>\n",
       "      <td>German</td>\n",
       "      <td>German</td>\n",
       "      <td>0-18 years</td>\n",
       "      <td>2018-01-17</td>\n",
       "      <td>NaT</td>\n",
       "      <td>...</td>\n",
       "      <td>1.0</td>\n",
       "      <td>NaN</td>\n",
       "      <td>NaN</td>\n",
       "      <td>NaN</td>\n",
       "      <td>0</td>\n",
       "      <td>2</td>\n",
       "      <td>3</td>\n",
       "      <td>3</td>\n",
       "      <td>True</td>\n",
       "      <td>0.505051</td>\n",
       "    </tr>\n",
       "  </tbody>\n",
       "</table>\n",
       "<p>1675 rows × 31 columns</p>\n",
       "</div>"
      ],
      "text/plain": [
       "          user_id date_served marketing_channel          variant  converted  \\\n",
       "0      a100000029  2018-01-01         House Ads  personalization       True   \n",
       "1      a100000030  2018-01-01         House Ads  personalization       True   \n",
       "2      a100000031  2018-01-01         House Ads  personalization       True   \n",
       "3      a100000032  2018-01-01         House Ads  personalization       True   \n",
       "4      a100000033  2018-01-01         House Ads  personalization       True   \n",
       "...           ...         ...               ...              ...        ...   \n",
       "10032  a100007290  2018-01-17             Email          control       True   \n",
       "10033  a100007291  2018-01-17             Email          control       True   \n",
       "10034  a100007292  2018-01-05         Instagram          control      False   \n",
       "10035  a100007293  2018-01-17             Email          control       True   \n",
       "10036  a100007294  2018-01-06          Facebook          control      False   \n",
       "\n",
       "      language_displayed language_preferred    age_group date_subscribed  \\\n",
       "0                English            English   0-18 years      2018-01-01   \n",
       "1                English            English  19-24 years      2018-01-01   \n",
       "2                English            English  24-30 years      2018-01-01   \n",
       "3                English            English  30-36 years      2018-01-01   \n",
       "4                English            English  36-45 years      2018-01-01   \n",
       "...                  ...                ...          ...             ...   \n",
       "10032             German             German  45-55 years      2018-01-17   \n",
       "10033             German             German    55+ years      2018-01-17   \n",
       "10034             German             German    55+ years      2018-01-17   \n",
       "10035             German             German   0-18 years      2018-01-17   \n",
       "10036             German             German   0-18 years      2018-01-17   \n",
       "\n",
       "      date_canceled  ... month_subscribed  day_canceled  dow_canceled  \\\n",
       "0               NaT  ...              1.0           NaN           NaN   \n",
       "1               NaT  ...              1.0           NaN           NaN   \n",
       "2               NaT  ...              1.0           NaN           NaN   \n",
       "3               NaT  ...              1.0           NaN           NaN   \n",
       "4               NaT  ...              1.0           NaN           NaN   \n",
       "...             ...  ...              ...           ...           ...   \n",
       "10032    2018-01-24  ...              1.0     Wednesday           2.0   \n",
       "10033           NaT  ...              1.0           NaN           NaN   \n",
       "10034           NaT  ...              1.0           NaN           NaN   \n",
       "10035           NaT  ...              1.0           NaN           NaN   \n",
       "10036           NaT  ...              1.0           NaN           NaN   \n",
       "\n",
       "       month_canceled  variant_code mc_code ld_code lp_code  lang_match  \\\n",
       "0                 NaN             1       3       2       2        True   \n",
       "1                 NaN             1       3       2       2        True   \n",
       "2                 NaN             1       3       2       2        True   \n",
       "3                 NaN             1       3       2       2        True   \n",
       "4                 NaN             1       3       2       2        True   \n",
       "...               ...           ...     ...     ...     ...         ...   \n",
       "10032             1.0             0       1       3       3        True   \n",
       "10033             NaN             0       1       3       3        True   \n",
       "10034             NaN             0       4       3       3        True   \n",
       "10035             NaN             0       1       3       3        True   \n",
       "10036             NaN             0       2       3       3        True   \n",
       "\n",
       "       retention_rct  \n",
       "0           0.505051  \n",
       "1           0.321543  \n",
       "2           0.425532  \n",
       "3           1.265823  \n",
       "4           1.315789  \n",
       "...              ...  \n",
       "10032       0.000000  \n",
       "10033       1.250000  \n",
       "10034       1.250000  \n",
       "10035       0.505051  \n",
       "10036       0.505051  \n",
       "\n",
       "[1675 rows x 31 columns]"
      ]
     },
     "execution_count": 519,
     "metadata": {},
     "output_type": "execute_result"
    }
   ],
   "source": [
    "subscribed_df = df[~df['date_subscribed'].isna()]\n",
    "subscribed_df"
   ]
  },
  {
   "cell_type": "code",
   "execution_count": 520,
   "id": "cacd9a24",
   "metadata": {},
   "outputs": [
    {
     "data": {
      "text/html": [
       "<div>\n",
       "<style scoped>\n",
       "    .dataframe tbody tr th:only-of-type {\n",
       "        vertical-align: middle;\n",
       "    }\n",
       "\n",
       "    .dataframe tbody tr th {\n",
       "        vertical-align: top;\n",
       "    }\n",
       "\n",
       "    .dataframe thead th {\n",
       "        text-align: right;\n",
       "    }\n",
       "</style>\n",
       "<table border=\"1\" class=\"dataframe\">\n",
       "  <thead>\n",
       "    <tr style=\"text-align: right;\">\n",
       "      <th></th>\n",
       "      <th>user_id</th>\n",
       "      <th>date_served</th>\n",
       "      <th>marketing_channel</th>\n",
       "      <th>variant</th>\n",
       "      <th>converted</th>\n",
       "      <th>language_displayed</th>\n",
       "      <th>language_preferred</th>\n",
       "      <th>age_group</th>\n",
       "      <th>date_subscribed</th>\n",
       "      <th>date_canceled</th>\n",
       "      <th>...</th>\n",
       "      <th>month_subscribed</th>\n",
       "      <th>day_canceled</th>\n",
       "      <th>dow_canceled</th>\n",
       "      <th>month_canceled</th>\n",
       "      <th>variant_code</th>\n",
       "      <th>mc_code</th>\n",
       "      <th>ld_code</th>\n",
       "      <th>lp_code</th>\n",
       "      <th>lang_match</th>\n",
       "      <th>retention_rct</th>\n",
       "    </tr>\n",
       "  </thead>\n",
       "  <tbody>\n",
       "    <tr>\n",
       "      <th>11</th>\n",
       "      <td>a100000040</td>\n",
       "      <td>2018-01-01</td>\n",
       "      <td>House Ads</td>\n",
       "      <td>personalization</td>\n",
       "      <td>True</td>\n",
       "      <td>English</td>\n",
       "      <td>English</td>\n",
       "      <td>19-24 years</td>\n",
       "      <td>2018-01-01</td>\n",
       "      <td>2018-01-18</td>\n",
       "      <td>...</td>\n",
       "      <td>1.0</td>\n",
       "      <td>Thursday</td>\n",
       "      <td>3.0</td>\n",
       "      <td>1.0</td>\n",
       "      <td>1</td>\n",
       "      <td>3</td>\n",
       "      <td>2</td>\n",
       "      <td>2</td>\n",
       "      <td>True</td>\n",
       "      <td>0.0</td>\n",
       "    </tr>\n",
       "    <tr>\n",
       "      <th>12</th>\n",
       "      <td>a100000041</td>\n",
       "      <td>2018-01-01</td>\n",
       "      <td>House Ads</td>\n",
       "      <td>personalization</td>\n",
       "      <td>True</td>\n",
       "      <td>Arabic</td>\n",
       "      <td>Arabic</td>\n",
       "      <td>24-30 years</td>\n",
       "      <td>2018-01-01</td>\n",
       "      <td>2018-02-22</td>\n",
       "      <td>...</td>\n",
       "      <td>1.0</td>\n",
       "      <td>Thursday</td>\n",
       "      <td>3.0</td>\n",
       "      <td>2.0</td>\n",
       "      <td>1</td>\n",
       "      <td>3</td>\n",
       "      <td>1</td>\n",
       "      <td>1</td>\n",
       "      <td>True</td>\n",
       "      <td>0.0</td>\n",
       "    </tr>\n",
       "    <tr>\n",
       "      <th>13</th>\n",
       "      <td>a100000042</td>\n",
       "      <td>2018-01-01</td>\n",
       "      <td>House Ads</td>\n",
       "      <td>personalization</td>\n",
       "      <td>True</td>\n",
       "      <td>English</td>\n",
       "      <td>English</td>\n",
       "      <td>0-18 years</td>\n",
       "      <td>2018-01-01</td>\n",
       "      <td>2018-03-09</td>\n",
       "      <td>...</td>\n",
       "      <td>1.0</td>\n",
       "      <td>Friday</td>\n",
       "      <td>4.0</td>\n",
       "      <td>3.0</td>\n",
       "      <td>1</td>\n",
       "      <td>3</td>\n",
       "      <td>2</td>\n",
       "      <td>2</td>\n",
       "      <td>True</td>\n",
       "      <td>0.0</td>\n",
       "    </tr>\n",
       "    <tr>\n",
       "      <th>14</th>\n",
       "      <td>a100000043</td>\n",
       "      <td>2018-01-01</td>\n",
       "      <td>House Ads</td>\n",
       "      <td>personalization</td>\n",
       "      <td>True</td>\n",
       "      <td>English</td>\n",
       "      <td>English</td>\n",
       "      <td>19-24 years</td>\n",
       "      <td>2018-01-01</td>\n",
       "      <td>2018-02-18</td>\n",
       "      <td>...</td>\n",
       "      <td>1.0</td>\n",
       "      <td>Sunday</td>\n",
       "      <td>6.0</td>\n",
       "      <td>2.0</td>\n",
       "      <td>1</td>\n",
       "      <td>3</td>\n",
       "      <td>2</td>\n",
       "      <td>2</td>\n",
       "      <td>True</td>\n",
       "      <td>0.0</td>\n",
       "    </tr>\n",
       "    <tr>\n",
       "      <th>15</th>\n",
       "      <td>a100000044</td>\n",
       "      <td>2018-01-01</td>\n",
       "      <td>House Ads</td>\n",
       "      <td>personalization</td>\n",
       "      <td>True</td>\n",
       "      <td>Arabic</td>\n",
       "      <td>Arabic</td>\n",
       "      <td>24-30 years</td>\n",
       "      <td>2018-01-01</td>\n",
       "      <td>2018-03-03</td>\n",
       "      <td>...</td>\n",
       "      <td>1.0</td>\n",
       "      <td>Saturday</td>\n",
       "      <td>5.0</td>\n",
       "      <td>3.0</td>\n",
       "      <td>1</td>\n",
       "      <td>3</td>\n",
       "      <td>1</td>\n",
       "      <td>1</td>\n",
       "      <td>True</td>\n",
       "      <td>0.0</td>\n",
       "    </tr>\n",
       "    <tr>\n",
       "      <th>...</th>\n",
       "      <td>...</td>\n",
       "      <td>...</td>\n",
       "      <td>...</td>\n",
       "      <td>...</td>\n",
       "      <td>...</td>\n",
       "      <td>...</td>\n",
       "      <td>...</td>\n",
       "      <td>...</td>\n",
       "      <td>...</td>\n",
       "      <td>...</td>\n",
       "      <td>...</td>\n",
       "      <td>...</td>\n",
       "      <td>...</td>\n",
       "      <td>...</td>\n",
       "      <td>...</td>\n",
       "      <td>...</td>\n",
       "      <td>...</td>\n",
       "      <td>...</td>\n",
       "      <td>...</td>\n",
       "      <td>...</td>\n",
       "      <td>...</td>\n",
       "    </tr>\n",
       "    <tr>\n",
       "      <th>10028</th>\n",
       "      <td>a100007286</td>\n",
       "      <td>2018-01-17</td>\n",
       "      <td>Email</td>\n",
       "      <td>control</td>\n",
       "      <td>True</td>\n",
       "      <td>German</td>\n",
       "      <td>German</td>\n",
       "      <td>19-24 years</td>\n",
       "      <td>2018-01-17</td>\n",
       "      <td>2018-03-05</td>\n",
       "      <td>...</td>\n",
       "      <td>1.0</td>\n",
       "      <td>Monday</td>\n",
       "      <td>0.0</td>\n",
       "      <td>3.0</td>\n",
       "      <td>0</td>\n",
       "      <td>1</td>\n",
       "      <td>3</td>\n",
       "      <td>3</td>\n",
       "      <td>True</td>\n",
       "      <td>0.0</td>\n",
       "    </tr>\n",
       "    <tr>\n",
       "      <th>10029</th>\n",
       "      <td>a100007287</td>\n",
       "      <td>2018-01-17</td>\n",
       "      <td>Email</td>\n",
       "      <td>control</td>\n",
       "      <td>True</td>\n",
       "      <td>German</td>\n",
       "      <td>German</td>\n",
       "      <td>24-30 years</td>\n",
       "      <td>2018-01-17</td>\n",
       "      <td>2018-02-14</td>\n",
       "      <td>...</td>\n",
       "      <td>1.0</td>\n",
       "      <td>Wednesday</td>\n",
       "      <td>2.0</td>\n",
       "      <td>2.0</td>\n",
       "      <td>0</td>\n",
       "      <td>1</td>\n",
       "      <td>3</td>\n",
       "      <td>3</td>\n",
       "      <td>True</td>\n",
       "      <td>0.0</td>\n",
       "    </tr>\n",
       "    <tr>\n",
       "      <th>10030</th>\n",
       "      <td>a100007288</td>\n",
       "      <td>2018-01-17</td>\n",
       "      <td>Email</td>\n",
       "      <td>control</td>\n",
       "      <td>True</td>\n",
       "      <td>German</td>\n",
       "      <td>German</td>\n",
       "      <td>30-36 years</td>\n",
       "      <td>2018-01-17</td>\n",
       "      <td>2018-04-26</td>\n",
       "      <td>...</td>\n",
       "      <td>1.0</td>\n",
       "      <td>Thursday</td>\n",
       "      <td>3.0</td>\n",
       "      <td>4.0</td>\n",
       "      <td>0</td>\n",
       "      <td>1</td>\n",
       "      <td>3</td>\n",
       "      <td>3</td>\n",
       "      <td>True</td>\n",
       "      <td>0.0</td>\n",
       "    </tr>\n",
       "    <tr>\n",
       "      <th>10031</th>\n",
       "      <td>a100007289</td>\n",
       "      <td>2018-01-17</td>\n",
       "      <td>Email</td>\n",
       "      <td>control</td>\n",
       "      <td>True</td>\n",
       "      <td>German</td>\n",
       "      <td>German</td>\n",
       "      <td>36-45 years</td>\n",
       "      <td>2018-01-17</td>\n",
       "      <td>2018-01-27</td>\n",
       "      <td>...</td>\n",
       "      <td>1.0</td>\n",
       "      <td>Saturday</td>\n",
       "      <td>5.0</td>\n",
       "      <td>1.0</td>\n",
       "      <td>0</td>\n",
       "      <td>1</td>\n",
       "      <td>3</td>\n",
       "      <td>3</td>\n",
       "      <td>True</td>\n",
       "      <td>0.0</td>\n",
       "    </tr>\n",
       "    <tr>\n",
       "      <th>10032</th>\n",
       "      <td>a100007290</td>\n",
       "      <td>2018-01-17</td>\n",
       "      <td>Email</td>\n",
       "      <td>control</td>\n",
       "      <td>True</td>\n",
       "      <td>German</td>\n",
       "      <td>German</td>\n",
       "      <td>45-55 years</td>\n",
       "      <td>2018-01-17</td>\n",
       "      <td>2018-01-24</td>\n",
       "      <td>...</td>\n",
       "      <td>1.0</td>\n",
       "      <td>Wednesday</td>\n",
       "      <td>2.0</td>\n",
       "      <td>1.0</td>\n",
       "      <td>0</td>\n",
       "      <td>1</td>\n",
       "      <td>3</td>\n",
       "      <td>3</td>\n",
       "      <td>True</td>\n",
       "      <td>0.0</td>\n",
       "    </tr>\n",
       "  </tbody>\n",
       "</table>\n",
       "<p>534 rows × 31 columns</p>\n",
       "</div>"
      ],
      "text/plain": [
       "          user_id date_served marketing_channel          variant  converted  \\\n",
       "11     a100000040  2018-01-01         House Ads  personalization       True   \n",
       "12     a100000041  2018-01-01         House Ads  personalization       True   \n",
       "13     a100000042  2018-01-01         House Ads  personalization       True   \n",
       "14     a100000043  2018-01-01         House Ads  personalization       True   \n",
       "15     a100000044  2018-01-01         House Ads  personalization       True   \n",
       "...           ...         ...               ...              ...        ...   \n",
       "10028  a100007286  2018-01-17             Email          control       True   \n",
       "10029  a100007287  2018-01-17             Email          control       True   \n",
       "10030  a100007288  2018-01-17             Email          control       True   \n",
       "10031  a100007289  2018-01-17             Email          control       True   \n",
       "10032  a100007290  2018-01-17             Email          control       True   \n",
       "\n",
       "      language_displayed language_preferred    age_group date_subscribed  \\\n",
       "11               English            English  19-24 years      2018-01-01   \n",
       "12                Arabic             Arabic  24-30 years      2018-01-01   \n",
       "13               English            English   0-18 years      2018-01-01   \n",
       "14               English            English  19-24 years      2018-01-01   \n",
       "15                Arabic             Arabic  24-30 years      2018-01-01   \n",
       "...                  ...                ...          ...             ...   \n",
       "10028             German             German  19-24 years      2018-01-17   \n",
       "10029             German             German  24-30 years      2018-01-17   \n",
       "10030             German             German  30-36 years      2018-01-17   \n",
       "10031             German             German  36-45 years      2018-01-17   \n",
       "10032             German             German  45-55 years      2018-01-17   \n",
       "\n",
       "      date_canceled  ... month_subscribed  day_canceled  dow_canceled  \\\n",
       "11       2018-01-18  ...              1.0      Thursday           3.0   \n",
       "12       2018-02-22  ...              1.0      Thursday           3.0   \n",
       "13       2018-03-09  ...              1.0        Friday           4.0   \n",
       "14       2018-02-18  ...              1.0        Sunday           6.0   \n",
       "15       2018-03-03  ...              1.0      Saturday           5.0   \n",
       "...             ...  ...              ...           ...           ...   \n",
       "10028    2018-03-05  ...              1.0        Monday           0.0   \n",
       "10029    2018-02-14  ...              1.0     Wednesday           2.0   \n",
       "10030    2018-04-26  ...              1.0      Thursday           3.0   \n",
       "10031    2018-01-27  ...              1.0      Saturday           5.0   \n",
       "10032    2018-01-24  ...              1.0     Wednesday           2.0   \n",
       "\n",
       "       month_canceled  variant_code mc_code ld_code lp_code  lang_match  \\\n",
       "11                1.0             1       3       2       2        True   \n",
       "12                2.0             1       3       1       1        True   \n",
       "13                3.0             1       3       2       2        True   \n",
       "14                2.0             1       3       2       2        True   \n",
       "15                3.0             1       3       1       1        True   \n",
       "...               ...           ...     ...     ...     ...         ...   \n",
       "10028             3.0             0       1       3       3        True   \n",
       "10029             2.0             0       1       3       3        True   \n",
       "10030             4.0             0       1       3       3        True   \n",
       "10031             1.0             0       1       3       3        True   \n",
       "10032             1.0             0       1       3       3        True   \n",
       "\n",
       "       retention_rct  \n",
       "11               0.0  \n",
       "12               0.0  \n",
       "13               0.0  \n",
       "14               0.0  \n",
       "15               0.0  \n",
       "...              ...  \n",
       "10028            0.0  \n",
       "10029            0.0  \n",
       "10030            0.0  \n",
       "10031            0.0  \n",
       "10032            0.0  \n",
       "\n",
       "[534 rows x 31 columns]"
      ]
     },
     "execution_count": 520,
     "metadata": {},
     "output_type": "execute_result"
    }
   ],
   "source": [
    "cancelled_df = subscribed_df[~subscribed_df['date_canceled'].isna()]\n",
    "cancelled_df"
   ]
  },
  {
   "cell_type": "markdown",
   "id": "a0a8cf6b",
   "metadata": {},
   "source": [
    "### 4b. Exploring relationships with categorical variables"
   ]
  },
  {
   "cell_type": "code",
   "execution_count": 521,
   "id": "fe948cdb",
   "metadata": {},
   "outputs": [
    {
     "name": "stdout",
     "output_type": "stream",
     "text": [
      "<class 'pandas.core.frame.DataFrame'>\n",
      "Int64Index: 9840 entries, 0 to 10036\n",
      "Data columns (total 31 columns):\n",
      " #   Column                  Non-Null Count  Dtype          \n",
      "---  ------                  --------------  -----          \n",
      " 0   user_id                 9840 non-null   object         \n",
      " 1   date_served             9840 non-null   datetime64[ns] \n",
      " 2   marketing_channel       9840 non-null   object         \n",
      " 3   variant                 9840 non-null   object         \n",
      " 4   converted               9840 non-null   bool           \n",
      " 5   language_displayed      9840 non-null   object         \n",
      " 6   language_preferred      9840 non-null   object         \n",
      " 7   age_group               9840 non-null   object         \n",
      " 8   date_subscribed         1675 non-null   datetime64[ns] \n",
      " 9   date_canceled           534 non-null    datetime64[ns] \n",
      " 10  subscribing_channel     1675 non-null   object         \n",
      " 11  is_retained             9840 non-null   bool           \n",
      " 12  DoW                     1675 non-null   float64        \n",
      " 13  channel_code            1675 non-null   float64        \n",
      " 14  is_correct_lang         9840 non-null   int64          \n",
      " 15  served_to_subscribed    1675 non-null   timedelta64[ns]\n",
      " 16  subscribed_to_canceled  534 non-null    timedelta64[ns]\n",
      " 17  day_served              9840 non-null   object         \n",
      " 18  dow_served              9840 non-null   int64          \n",
      " 19  month_served            9840 non-null   int64          \n",
      " 20  day_subscribed          1675 non-null   object         \n",
      " 21  month_subscribed        1675 non-null   float64        \n",
      " 22  day_canceled            534 non-null    object         \n",
      " 23  dow_canceled            534 non-null    float64        \n",
      " 24  month_canceled          534 non-null    float64        \n",
      " 25  variant_code            9840 non-null   int64          \n",
      " 26  mc_code                 9840 non-null   int64          \n",
      " 27  ld_code                 9840 non-null   int64          \n",
      " 28  lp_code                 9840 non-null   int64          \n",
      " 29  lang_match              9840 non-null   bool           \n",
      " 30  retention_rct           9840 non-null   float64        \n",
      "dtypes: bool(3), datetime64[ns](3), float64(6), int64(7), object(10), timedelta64[ns](2)\n",
      "memory usage: 2.2+ MB\n"
     ]
    }
   ],
   "source": [
    "df.info()"
   ]
  },
  {
   "cell_type": "markdown",
   "id": "86130a52",
   "metadata": {},
   "source": [
    "### Q. Which age group sees highest conversions?"
   ]
  },
  {
   "cell_type": "code",
   "execution_count": 522,
   "id": "e226f183",
   "metadata": {
    "scrolled": false
   },
   "outputs": [
    {
     "data": {
      "text/plain": [
       "<AxesSubplot:xlabel='age_group'>"
      ]
     },
     "execution_count": 522,
     "metadata": {},
     "output_type": "execute_result"
    },
    {
     "data": {
      "image/png": "[encoded data removed]",
      "text/plain": [
       "<Figure size 432x288 with 1 Axes>"
      ]
     },
     "metadata": {
      "needs_background": "light"
     },
     "output_type": "display_data"
    }
   ],
   "source": [
    "df.groupby('age_group')['converted'].sum().plot.bar()"
   ]
  },
  {
   "cell_type": "markdown",
   "id": "ae11d3a8",
   "metadata": {},
   "source": [
    "In this case, we can see that the 19-24 years age group sees the highest conversions, followed by the 24-30 years and 0-18 years age groups respectively.\n",
    "\n",
    "We could also look into the retention rate amongst the age groups too.\n",
    "\n",
    "### Q. Which age group sees the highest average retention rate?"
   ]
  },
  {
   "cell_type": "code",
   "execution_count": 523,
   "id": "e46ab6b8",
   "metadata": {},
   "outputs": [
    {
     "data": {
      "text/plain": [
       "<AxesSubplot:xlabel='age_group'>"
      ]
     },
     "execution_count": 523,
     "metadata": {},
     "output_type": "execute_result"
    },
    {
     "data": {
      "image/png": "[encoded data removed]",
      "text/plain": [
       "<Figure size 432x288 with 1 Axes>"
      ]
     },
     "metadata": {
      "needs_background": "light"
     },
     "output_type": "display_data"
    }
   ],
   "source": [
    "df.groupby('age_group')['retention_rct'].mean().plot.bar()"
   ]
  },
  {
   "cell_type": "markdown",
   "id": "ccd4c76b",
   "metadata": {},
   "source": [
    "However, there is higher retention rate amongst the other age groups. But what are they in terms of absolute numbers?"
   ]
  },
  {
   "cell_type": "code",
   "execution_count": 524,
   "id": "4072ced3",
   "metadata": {},
   "outputs": [
    {
     "data": {
      "text/plain": [
       "<AxesSubplot:xlabel='age_group'>"
      ]
     },
     "execution_count": 524,
     "metadata": {},
     "output_type": "execute_result"
    },
    {
     "data": {
      "image/png": "[encoded data removed]",
      "text/plain": [
       "<Figure size 432x288 with 1 Axes>"
      ]
     },
     "metadata": {
      "needs_background": "light"
     },
     "output_type": "display_data"
    }
   ],
   "source": [
    "df.groupby('age_group')['is_retained'].sum().plot.bar()"
   ]
  },
  {
   "cell_type": "markdown",
   "id": "8858e20a",
   "metadata": {},
   "source": [
    "There is still a higher retention amongst the three groups although marginally.\n",
    "\n",
    "#### Perhaps we could look into how to better retain those from the younger age groups."
   ]
  },
  {
   "cell_type": "markdown",
   "id": "ed3c2dd1",
   "metadata": {},
   "source": [
    "### Q. Does personalisation have an effect on conversions and retention rates?"
   ]
  },
  {
   "cell_type": "code",
   "execution_count": 525,
   "id": "550f8b00",
   "metadata": {},
   "outputs": [
    {
     "data": {
      "text/plain": [
       "<AxesSubplot:xlabel='variant,age_group'>"
      ]
     },
     "execution_count": 525,
     "metadata": {},
     "output_type": "execute_result"
    },
    {
     "data": {
      "image/png": "[encoded data removed]",
      "text/plain": [
       "<Figure size 432x288 with 1 Axes>"
      ]
     },
     "metadata": {
      "needs_background": "light"
     },
     "output_type": "display_data"
    }
   ],
   "source": [
    "df.groupby(['variant','age_group'])['converted'].sum().plot.bar()"
   ]
  },
  {
   "cell_type": "code",
   "execution_count": 526,
   "id": "6eca96ac",
   "metadata": {},
   "outputs": [
    {
     "data": {
      "text/plain": [
       "<AxesSubplot:xlabel='variant,age_group'>"
      ]
     },
     "execution_count": 526,
     "metadata": {},
     "output_type": "execute_result"
    },
    {
     "data": {
      "image/png": "[encoded data removed]",
      "text/plain": [
       "<Figure size 432x288 with 1 Axes>"
      ]
     },
     "metadata": {
      "needs_background": "light"
     },
     "output_type": "display_data"
    }
   ],
   "source": [
    "df.groupby(['variant','age_group'])['retention_rct'].mean().plot.bar()"
   ]
  },
  {
   "cell_type": "markdown",
   "id": "2a9ff641",
   "metadata": {},
   "source": [
    "While personalisation does see a significant impact on conversions, it does not affect the retention on subscribers.\n",
    "\n",
    "### Q. Are certain demographics more quick to subscribe?"
   ]
  },
  {
   "cell_type": "code",
   "execution_count": 527,
   "id": "1c10353d",
   "metadata": {},
   "outputs": [
    {
     "data": {
      "text/plain": [
       "age_group\n",
       "0-18 years    2 days 04:07:56.821192052\n",
       "19-24 years   1 days 20:09:43.783783783\n",
       "24-30 years   1 days 23:48:05.950413223\n",
       "30-36 years   2 days 12:53:52.653061224\n",
       "36-45 years   2 days 13:44:16.551724137\n",
       "45-55 years   3 days 00:38:08.741721854\n",
       "55+ years     2 days 16:46:49.756097560\n",
       "Name: served_to_subscribed, dtype: timedelta64[ns]"
      ]
     },
     "execution_count": 527,
     "metadata": {},
     "output_type": "execute_result"
    }
   ],
   "source": [
    "df.groupby('age_group')['served_to_subscribed'].mean()"
   ]
  },
  {
   "cell_type": "markdown",
   "id": "72d53b3c",
   "metadata": {},
   "source": [
    "The 19-24 years age group is the quickest to subscribe after the ads are served to them but...\n",
    "\n",
    "### Q. Does it have to do with the type of marketing channels?"
   ]
  },
  {
   "cell_type": "code",
   "execution_count": 528,
   "id": "a93a7bee",
   "metadata": {},
   "outputs": [
    {
     "data": {
      "text/plain": [
       "age_group    marketing_channel\n",
       "0-18 years   Email                         0 days 00:00:00\n",
       "             Facebook            1 days 07:21:17.419354838\n",
       "             House Ads           3 days 08:44:44.745762711\n",
       "             Instagram           1 days 15:23:46.415094339\n",
       "             Push                          3 days 00:48:00\n",
       "19-24 years  Email               0 days 01:41:03.157894736\n",
       "             Facebook            1 days 05:03:09.473684210\n",
       "             House Ads           3 days 23:22:21.176470588\n",
       "             Instagram           0 days 17:21:25.714285714\n",
       "             Push                          0 days 08:00:00\n",
       "24-30 years  Email               0 days 01:27:16.363636363\n",
       "             Facebook            1 days 00:44:18.461538461\n",
       "             House Ads           3 days 17:46:15.572519084\n",
       "             Instagram           1 days 14:19:42.089552238\n",
       "             Push                1 days 14:49:24.705882352\n",
       "30-36 years  Email                         0 days 00:00:00\n",
       "             Facebook            1 days 18:10:54.545454545\n",
       "             House Ads                     3 days 08:00:00\n",
       "             Instagram                     1 days 15:00:00\n",
       "             Push                          3 days 06:00:00\n",
       "36-45 years  Email                         0 days 00:00:00\n",
       "             Facebook                      1 days 04:48:00\n",
       "             House Ads                     3 days 14:24:00\n",
       "             Instagram           1 days 23:13:32.903225806\n",
       "             Push                          3 days 04:48:00\n",
       "45-55 years  Email                         0 days 00:00:00\n",
       "             Facebook            3 days 05:13:02.608695652\n",
       "             House Ads           3 days 23:24:26.666666666\n",
       "             Instagram           1 days 16:15:29.032258064\n",
       "             Push                          1 days 12:00:00\n",
       "55+ years    Email                         0 days 00:00:00\n",
       "             Facebook            0 days 11:22:06.315789473\n",
       "             House Ads           4 days 03:10:35.294117647\n",
       "             Instagram                     2 days 08:00:00\n",
       "             Push                          0 days 00:00:00\n",
       "Name: served_to_subscribed, dtype: timedelta64[ns]"
      ]
     },
     "execution_count": 528,
     "metadata": {},
     "output_type": "execute_result"
    }
   ],
   "source": [
    "df.groupby(['age_group', 'marketing_channel'])['served_to_subscribed'].mean()"
   ]
  },
  {
   "cell_type": "markdown",
   "id": "f5a36f88",
   "metadata": {},
   "source": [
    "This is in line with social media habits across age groups with the older groups more likely to be exposed to Facebook and the younger groups to Instagram.\n",
    "\n",
    "It is also highly likely that 19-24 years age groups are more likely to subscribe after ads are sent to them as they spend time online.\n",
    "\n",
    "#### However, across the board, Email ads do not work.\n",
    "\n",
    "### Q. But do they subscribe on the same channel they were served the ads on?"
   ]
  },
  {
   "cell_type": "code",
   "execution_count": 529,
   "id": "2e2bd328",
   "metadata": {},
   "outputs": [
    {
     "data": {
      "text/plain": [
       "marketing_channel  subscribing_channel\n",
       "Email              Email                  200\n",
       "Facebook           Facebook               263\n",
       "                   Instagram               36\n",
       "                   Email                   12\n",
       "                   Push                     6\n",
       "                   House Ads                5\n",
       "House Ads          House Ads              336\n",
       "                   Instagram              159\n",
       "                   Facebook                91\n",
       "                   Push                    53\n",
       "                   Email                   52\n",
       "Instagram          Instagram              294\n",
       "                   Facebook                24\n",
       "                   Email                    9\n",
       "                   House Ads                6\n",
       "                   Push                     3\n",
       "Push               Push                    86\n",
       "                   Instagram               17\n",
       "                   Facebook                14\n",
       "                   House Ads                7\n",
       "                   Email                    2\n",
       "Name: subscribing_channel, dtype: int64"
      ]
     },
     "execution_count": 529,
     "metadata": {},
     "output_type": "execute_result"
    }
   ],
   "source": [
    "df.groupby('marketing_channel')['subscribing_channel'].value_counts()"
   ]
  },
  {
   "cell_type": "markdown",
   "id": "f0a569db",
   "metadata": {},
   "source": [
    "Mostly yes."
   ]
  },
  {
   "cell_type": "code",
   "execution_count": 530,
   "id": "c6e69b65",
   "metadata": {},
   "outputs": [
    {
     "data": {
      "text/plain": [
       "marketing_channel  subscribing_channel\n",
       "Email              Email                  39\n",
       "Facebook           Facebook               49\n",
       "                   Email                   7\n",
       "                   Instagram               5\n",
       "                   Push                    1\n",
       "House Ads          House Ads              65\n",
       "                   Instagram              20\n",
       "                   Facebook               18\n",
       "                   Push                   10\n",
       "                   Email                   5\n",
       "Instagram          Instagram              47\n",
       "                   House Ads               3\n",
       "                   Facebook                2\n",
       "                   Email                   1\n",
       "Push               Push                   16\n",
       "                   Instagram               9\n",
       "                   House Ads               4\n",
       "                   Facebook                1\n",
       "Name: subscribing_channel, dtype: int64"
      ]
     },
     "execution_count": 530,
     "metadata": {},
     "output_type": "execute_result"
    }
   ],
   "source": [
    "df[df['age_group'] == '0-18 years'].groupby('marketing_channel')['subscribing_channel'].value_counts()"
   ]
  },
  {
   "cell_type": "code",
   "execution_count": 531,
   "id": "b8f33c37",
   "metadata": {
    "scrolled": true
   },
   "outputs": [
    {
     "data": {
      "text/plain": [
       "marketing_channel  subscribing_channel\n",
       "Email              Email                   57\n",
       "Facebook           Facebook                88\n",
       "                   House Ads                5\n",
       "                   Email                    1\n",
       "                   Instagram                1\n",
       "House Ads          House Ads               65\n",
       "                   Instagram               33\n",
       "                   Facebook                29\n",
       "                   Push                    15\n",
       "                   Email                   11\n",
       "Instagram          Instagram              104\n",
       "                   Facebook                 7\n",
       "                   Push                     1\n",
       "Push               Push                    25\n",
       "                   Email                    1\n",
       "                   Instagram                1\n",
       "Name: subscribing_channel, dtype: int64"
      ]
     },
     "execution_count": 531,
     "metadata": {},
     "output_type": "execute_result"
    }
   ],
   "source": [
    "df[df['age_group'] == '19-24 years'].groupby('marketing_channel')['subscribing_channel'].value_counts()"
   ]
  },
  {
   "cell_type": "code",
   "execution_count": 532,
   "id": "688bf108",
   "metadata": {},
   "outputs": [
    {
     "data": {
      "text/plain": [
       "marketing_channel  subscribing_channel\n",
       "Email              Email                  66\n",
       "Facebook           Facebook               53\n",
       "                   Instagram               9\n",
       "                   Email                   2\n",
       "                   Push                    1\n",
       "House Ads          House Ads              68\n",
       "                   Instagram              35\n",
       "                   Facebook               13\n",
       "                   Push                    9\n",
       "                   Email                   6\n",
       "Instagram          Instagram              63\n",
       "                   House Ads               3\n",
       "                   Facebook                1\n",
       "Push               Push                   22\n",
       "                   Instagram               6\n",
       "                   Facebook                5\n",
       "                   House Ads               1\n",
       "Name: subscribing_channel, dtype: int64"
      ]
     },
     "execution_count": 532,
     "metadata": {},
     "output_type": "execute_result"
    }
   ],
   "source": [
    "df[df['age_group'] == '24-30 years'].groupby('marketing_channel')['subscribing_channel'].value_counts()"
   ]
  },
  {
   "cell_type": "code",
   "execution_count": 533,
   "id": "07425369",
   "metadata": {},
   "outputs": [],
   "source": [
    "df[df['age_group'] == '36-45 years'].groupby('marketing_channel')['subscribing_channel'].value_counts();"
   ]
  },
  {
   "cell_type": "code",
   "execution_count": 534,
   "id": "9341d982",
   "metadata": {},
   "outputs": [],
   "source": [
    "df[df['age_group'] == '45-55 years'].groupby('marketing_channel')['subscribing_channel'].value_counts();"
   ]
  },
  {
   "cell_type": "code",
   "execution_count": 535,
   "id": "c80fba20",
   "metadata": {},
   "outputs": [],
   "source": [
    "df[df['age_group'] == '55+ years'].groupby('marketing_channel')['subscribing_channel'].value_counts();"
   ]
  },
  {
   "cell_type": "markdown",
   "id": "31ba4c1f",
   "metadata": {},
   "source": [
    "### Q. So, how quick do they cancel?"
   ]
  },
  {
   "cell_type": "code",
   "execution_count": 536,
   "id": "daa4b2dd",
   "metadata": {
    "scrolled": true
   },
   "outputs": [
    {
     "data": {
      "text/plain": [
       "age_group\n",
       "0-18 years    43 days 10:31:50.204081632\n",
       "19-24 years   52 days 05:26:48.510638298\n",
       "24-30 years   45 days 23:22:06.315789473\n",
       "30-36 years   53 days 19:54:53.617021277\n",
       "36-45 years             54 days 12:57:36\n",
       "45-55 years   46 days 22:07:03.529411764\n",
       "55+ years     55 days 02:10:54.545454545\n",
       "Name: subscribed_to_canceled, dtype: timedelta64[ns]"
      ]
     },
     "execution_count": 536,
     "metadata": {},
     "output_type": "execute_result"
    }
   ],
   "source": [
    "df.groupby('age_group')['subscribed_to_canceled'].mean()"
   ]
  },
  {
   "cell_type": "markdown",
   "id": "459130f0",
   "metadata": {},
   "source": [
    "So across age groups, those who canceled take an average of 49 days before cancelling their subscription.\n",
    "\n",
    "### Q. Does it have anything to do with the channels they subscribe on?"
   ]
  },
  {
   "cell_type": "code",
   "execution_count": 537,
   "id": "0b87110c",
   "metadata": {},
   "outputs": [
    {
     "data": {
      "text/plain": [
       "subscribing_channel\n",
       "Email                 47 days 21:00:00\n",
       "Facebook    49 days 23:47:15.398230088\n",
       "House Ads   46 days 19:41:32.307692307\n",
       "Instagram   52 days 18:45:17.880794702\n",
       "Push                  46 days 16:00:00\n",
       "Name: subscribed_to_canceled, dtype: timedelta64[ns]"
      ]
     },
     "execution_count": 537,
     "metadata": {},
     "output_type": "execute_result"
    }
   ],
   "source": [
    "df.groupby(['age_group', 'subscribing_channel'])['subscribed_to_canceled'].mean();\n",
    "df.groupby('subscribing_channel')['subscribed_to_canceled'].mean()"
   ]
  },
  {
   "cell_type": "markdown",
   "id": "ec7fdc54",
   "metadata": {},
   "source": [
    "Not quite."
   ]
  },
  {
   "cell_type": "markdown",
   "id": "a388bc88",
   "metadata": {},
   "source": [
    "### Q. Does seasonality affect conversions across age groups?"
   ]
  },
  {
   "cell_type": "code",
   "execution_count": 538,
   "id": "57eeb35e",
   "metadata": {
    "scrolled": false
   },
   "outputs": [
    {
     "data": {
      "text/plain": [
       "age_group\n",
       "0-18 years    -0.032091\n",
       "19-24 years   -0.066832\n",
       "24-30 years   -0.085947\n",
       "30-36 years   -0.021034\n",
       "36-45 years    0.003937\n",
       "45-55 years   -0.097096\n",
       "55+ years      0.094393\n",
       "Name: (DoW, converted), dtype: float64"
      ]
     },
     "execution_count": 538,
     "metadata": {},
     "output_type": "execute_result"
    }
   ],
   "source": [
    "# day of week subscription\n",
    "df.groupby('age_group')[['DoW','converted']].corr().unstack().iloc[:,1]"
   ]
  },
  {
   "cell_type": "code",
   "execution_count": 539,
   "id": "83d23511",
   "metadata": {
    "scrolled": false
   },
   "outputs": [
    {
     "data": {
      "text/plain": [
       "age_group\n",
       "0-18 years    -0.051550\n",
       "19-24 years   -0.022856\n",
       "24-30 years   -0.048456\n",
       "30-36 years   -0.025887\n",
       "36-45 years   -0.010314\n",
       "45-55 years   -0.024614\n",
       "55+ years     -0.052193\n",
       "Name: (dow_served, converted), dtype: float64"
      ]
     },
     "execution_count": 539,
     "metadata": {},
     "output_type": "execute_result"
    }
   ],
   "source": [
    "# day of week ad served\n",
    "df.groupby('age_group')[['dow_served','converted']].corr().unstack().iloc[:,1]"
   ]
  },
  {
   "cell_type": "markdown",
   "id": "2fa396e1",
   "metadata": {},
   "source": [
    "There's no strong correlation to suggest that.\n",
    "\n",
    "### Q. How about across marketing channels?"
   ]
  },
  {
   "cell_type": "code",
   "execution_count": null,
   "id": "bd806439",
   "metadata": {},
   "outputs": [],
   "source": []
  },
  {
   "cell_type": "code",
   "execution_count": 540,
   "id": "40c3dc22",
   "metadata": {
    "scrolled": true
   },
   "outputs": [
    {
     "data": {
      "text/html": [
       "<div>\n",
       "<style scoped>\n",
       "    .dataframe tbody tr th:only-of-type {\n",
       "        vertical-align: middle;\n",
       "    }\n",
       "\n",
       "    .dataframe tbody tr th {\n",
       "        vertical-align: top;\n",
       "    }\n",
       "\n",
       "    .dataframe thead tr th {\n",
       "        text-align: left;\n",
       "    }\n",
       "\n",
       "    .dataframe thead tr:last-of-type th {\n",
       "        text-align: right;\n",
       "    }\n",
       "</style>\n",
       "<table border=\"1\" class=\"dataframe\">\n",
       "  <thead>\n",
       "    <tr>\n",
       "      <th></th>\n",
       "      <th>converted</th>\n",
       "    </tr>\n",
       "    <tr>\n",
       "      <th></th>\n",
       "      <th>converted</th>\n",
       "    </tr>\n",
       "    <tr>\n",
       "      <th>age_group</th>\n",
       "      <th></th>\n",
       "    </tr>\n",
       "  </thead>\n",
       "  <tbody>\n",
       "    <tr>\n",
       "      <th>0-18 years</th>\n",
       "      <td>1.0</td>\n",
       "    </tr>\n",
       "    <tr>\n",
       "      <th>19-24 years</th>\n",
       "      <td>1.0</td>\n",
       "    </tr>\n",
       "    <tr>\n",
       "      <th>24-30 years</th>\n",
       "      <td>1.0</td>\n",
       "    </tr>\n",
       "    <tr>\n",
       "      <th>30-36 years</th>\n",
       "      <td>1.0</td>\n",
       "    </tr>\n",
       "    <tr>\n",
       "      <th>36-45 years</th>\n",
       "      <td>1.0</td>\n",
       "    </tr>\n",
       "    <tr>\n",
       "      <th>45-55 years</th>\n",
       "      <td>1.0</td>\n",
       "    </tr>\n",
       "    <tr>\n",
       "      <th>55+ years</th>\n",
       "      <td>1.0</td>\n",
       "    </tr>\n",
       "  </tbody>\n",
       "</table>\n",
       "</div>"
      ],
      "text/plain": [
       "            converted\n",
       "            converted\n",
       "age_group            \n",
       "0-18 years        1.0\n",
       "19-24 years       1.0\n",
       "24-30 years       1.0\n",
       "30-36 years       1.0\n",
       "36-45 years       1.0\n",
       "45-55 years       1.0\n",
       "55+ years         1.0"
      ]
     },
     "execution_count": 540,
     "metadata": {},
     "output_type": "execute_result"
    }
   ],
   "source": [
    "# across marketing channels\n",
    "df.groupby('age_group')[['marketing_channel','converted']].corr().unstack()"
   ]
  },
  {
   "cell_type": "code",
   "execution_count": 541,
   "id": "ab68444c",
   "metadata": {},
   "outputs": [
    {
     "data": {
      "text/plain": [
       "<AxesSubplot:xlabel='marketing_channel,age_group'>"
      ]
     },
     "execution_count": 541,
     "metadata": {},
     "output_type": "execute_result"
    },
    {
     "data": {
      "image/png": "[encoded data removed]",
      "text/plain": [
       "<Figure size 432x288 with 1 Axes>"
      ]
     },
     "metadata": {
      "needs_background": "light"
     },
     "output_type": "display_data"
    }
   ],
   "source": [
    "df.groupby(['marketing_channel','age_group'])['converted'].sum().plot.bar()"
   ]
  },
  {
   "cell_type": "markdown",
   "id": "bc14f3d3",
   "metadata": {},
   "source": [
    "Marketing ads on Instagram (followed by Facebook) has the highest impact on conversions in the younger age groups."
   ]
  },
  {
   "cell_type": "code",
   "execution_count": 542,
   "id": "f8bd6f9b",
   "metadata": {},
   "outputs": [
    {
     "data": {
      "text/plain": [
       "<AxesSubplot:xlabel='marketing_channel,age_group'>"
      ]
     },
     "execution_count": 542,
     "metadata": {},
     "output_type": "execute_result"
    },
    {
     "data": {
      "image/png": "[encoded data removed]",
      "text/plain": [
       "<Figure size 432x288 with 1 Axes>"
      ]
     },
     "metadata": {
      "needs_background": "light"
     },
     "output_type": "display_data"
    }
   ],
   "source": [
    "df.groupby(['marketing_channel','age_group'])['is_retained'].sum().plot.bar()"
   ]
  },
  {
   "cell_type": "markdown",
   "id": "73ffa495",
   "metadata": {},
   "source": [
    "But the absolute retention numbers on house ads are higher than Facebook and Instagram. \n",
    "\n",
    "Let's look into that even more."
   ]
  },
  {
   "cell_type": "markdown",
   "id": "25d57a28",
   "metadata": {},
   "source": [
    "### Q. Which marketing channel sees highest conversions?"
   ]
  },
  {
   "cell_type": "code",
   "execution_count": 543,
   "id": "900851d5",
   "metadata": {
    "scrolled": false
   },
   "outputs": [
    {
     "data": {
      "text/plain": [
       "<AxesSubplot:xlabel='marketing_channel'>"
      ]
     },
     "execution_count": 543,
     "metadata": {},
     "output_type": "execute_result"
    },
    {
     "data": {
      "image/png": "[encoded data removed]",
      "text/plain": [
       "<Figure size 432x288 with 1 Axes>"
      ]
     },
     "metadata": {
      "needs_background": "light"
     },
     "output_type": "display_data"
    }
   ],
   "source": [
    "df.groupby('marketing_channel')['converted'].sum().plot.bar()"
   ]
  },
  {
   "cell_type": "code",
   "execution_count": 544,
   "id": "bc33c6f1",
   "metadata": {},
   "outputs": [
    {
     "data": {
      "text/plain": [
       "<AxesSubplot:xlabel='marketing_channel'>"
      ]
     },
     "execution_count": 544,
     "metadata": {},
     "output_type": "execute_result"
    },
    {
     "data": {
      "image/png": "[encoded data removed]",
      "text/plain": [
       "<Figure size 432x288 with 1 Axes>"
      ]
     },
     "metadata": {
      "needs_background": "light"
     },
     "output_type": "display_data"
    }
   ],
   "source": [
    "df.groupby('marketing_channel')['retention_rct'].mean().plot.bar()"
   ]
  },
  {
   "cell_type": "code",
   "execution_count": 545,
   "id": "3c715e2b",
   "metadata": {},
   "outputs": [
    {
     "data": {
      "text/plain": [
       "<AxesSubplot:xlabel='subscribing_channel'>"
      ]
     },
     "execution_count": 545,
     "metadata": {},
     "output_type": "execute_result"
    },
    {
     "data": {
      "image/png": "[encoded data removed]",
      "text/plain": [
       "<Figure size 432x288 with 1 Axes>"
      ]
     },
     "metadata": {
      "needs_background": "light"
     },
     "output_type": "display_data"
    }
   ],
   "source": [
    "# check on channels subscribed on\n",
    "df.groupby('subscribing_channel')['converted'].sum().plot.bar()"
   ]
  },
  {
   "cell_type": "code",
   "execution_count": 546,
   "id": "7d102b5b",
   "metadata": {},
   "outputs": [
    {
     "data": {
      "text/plain": [
       "<AxesSubplot:xlabel='subscribing_channel'>"
      ]
     },
     "execution_count": 546,
     "metadata": {},
     "output_type": "execute_result"
    },
    {
     "data": {
      "image/png": "[encoded data removed]",
      "text/plain": [
       "<Figure size 432x288 with 1 Axes>"
      ]
     },
     "metadata": {
      "needs_background": "light"
     },
     "output_type": "display_data"
    }
   ],
   "source": [
    "# check on channels subscribed on\n",
    "df.groupby('subscribing_channel')['retention_rct'].mean().plot.bar()"
   ]
  },
  {
   "cell_type": "markdown",
   "id": "90bdef0c",
   "metadata": {},
   "source": [
    "House Ads, Instagram and Facebook see higher numbers of conversions, with the retention rates relatively similar.\n",
    "\n",
    "### Q. Does personalisation have an impact on conversion?"
   ]
  },
  {
   "cell_type": "code",
   "execution_count": 547,
   "id": "ec86d71c",
   "metadata": {},
   "outputs": [
    {
     "data": {
      "text/plain": [
       "<AxesSubplot:xlabel='variant,marketing_channel'>"
      ]
     },
     "execution_count": 547,
     "metadata": {},
     "output_type": "execute_result"
    },
    {
     "data": {
      "image/png": "[encoded data removed]",
      "text/plain": [
       "<Figure size 432x288 with 1 Axes>"
      ]
     },
     "metadata": {
      "needs_background": "light"
     },
     "output_type": "display_data"
    }
   ],
   "source": [
    "df.groupby(['variant','marketing_channel'])['converted'].sum().plot.bar()"
   ]
  },
  {
   "cell_type": "markdown",
   "id": "db57b105",
   "metadata": {},
   "source": [
    "As we have seen earlier, yes it does!"
   ]
  },
  {
   "cell_type": "code",
   "execution_count": 548,
   "id": "25c3909b",
   "metadata": {
    "scrolled": true
   },
   "outputs": [
    {
     "data": {
      "text/plain": [
       "marketing_channel  variant        \n",
       "Email              control             78\n",
       "                   personalization    113\n",
       "Facebook           control             48\n",
       "                   personalization    184\n",
       "House Ads          control            172\n",
       "                   personalization    126\n",
       "Instagram          control             44\n",
       "                   personalization    210\n",
       "Push               control             13\n",
       "                   personalization     68\n",
       "Name: converted, dtype: int64"
      ]
     },
     "execution_count": 548,
     "metadata": {},
     "output_type": "execute_result"
    }
   ],
   "source": [
    "df.groupby(['marketing_channel', 'variant'])['converted'].sum()"
   ]
  },
  {
   "cell_type": "code",
   "execution_count": 549,
   "id": "0ebd76e2",
   "metadata": {},
   "outputs": [
    {
     "data": {
      "text/plain": [
       "<AxesSubplot:xlabel='marketing_channel,variant'>"
      ]
     },
     "execution_count": 549,
     "metadata": {},
     "output_type": "execute_result"
    },
    {
     "data": {
      "image/png": "[encoded data removed]",
      "text/plain": [
       "<Figure size 432x288 with 1 Axes>"
      ]
     },
     "metadata": {
      "needs_background": "light"
     },
     "output_type": "display_data"
    }
   ],
   "source": [
    "df.groupby(['marketing_channel'])['variant'].value_counts().plot.bar()"
   ]
  },
  {
   "cell_type": "markdown",
   "id": "522fcd43",
   "metadata": {},
   "source": [
    "It is really likely that the lack of personalisation affected lower conversion rates on certain channels too"
   ]
  },
  {
   "cell_type": "markdown",
   "id": "13c9dea6",
   "metadata": {},
   "source": [
    "### Q. Which day of week of ad serve sees highest conversions?"
   ]
  },
  {
   "cell_type": "code",
   "execution_count": 563,
   "id": "605d2474",
   "metadata": {},
   "outputs": [
    {
     "data": {
      "text/plain": [
       "<AxesSubplot:xlabel='dow_served'>"
      ]
     },
     "execution_count": 563,
     "metadata": {},
     "output_type": "execute_result"
    },
    {
     "data": {
      "image/png": "[encoded data removed]",
      "text/plain": [
       "<Figure size 432x288 with 1 Axes>"
      ]
     },
     "metadata": {
      "needs_background": "light"
     },
     "output_type": "display_data"
    }
   ],
   "source": [
    "df.groupby('dow_served')['converted'].mean().plot.bar()"
   ]
  },
  {
   "cell_type": "markdown",
   "id": "cb5129ef",
   "metadata": {},
   "source": [
    "### Q. Which day of week saw highest conversions?"
   ]
  },
  {
   "cell_type": "code",
   "execution_count": 586,
   "id": "4db22ed9",
   "metadata": {
    "scrolled": true
   },
   "outputs": [
    {
     "data": {
      "text/plain": [
       "<AxesSubplot:xlabel='DoW'>"
      ]
     },
     "execution_count": 586,
     "metadata": {},
     "output_type": "execute_result"
    },
    {
     "data": {
      "image/png": "[encoded data removed]",
      "text/plain": [
       "<Figure size 432x288 with 1 Axes>"
      ]
     },
     "metadata": {
      "needs_background": "light"
     },
     "output_type": "display_data"
    }
   ],
   "source": [
    "df.groupby('DoW')['converted'].sum().plot.bar()"
   ]
  },
  {
   "cell_type": "markdown",
   "id": "a42d4ad2",
   "metadata": {},
   "source": [
    "### Q. Which day of week saw highest cancellations?"
   ]
  },
  {
   "cell_type": "code",
   "execution_count": 564,
   "id": "c040e3f8",
   "metadata": {},
   "outputs": [
    {
     "data": {
      "text/plain": [
       "<AxesSubplot:xlabel='dow_canceled'>"
      ]
     },
     "execution_count": 564,
     "metadata": {},
     "output_type": "execute_result"
    },
    {
     "data": {
      "image/png": "[encoded data removed]",
      "text/plain": [
       "<Figure size 432x288 with 1 Axes>"
      ]
     },
     "metadata": {
      "needs_background": "light"
     },
     "output_type": "display_data"
    }
   ],
   "source": [
    "df.groupby('dow_canceled')['converted'].mean().plot.bar()"
   ]
  },
  {
   "cell_type": "markdown",
   "id": "d81aeb0e",
   "metadata": {},
   "source": [
    "#### Interestingly, the start of the week saw an increasing trend in subscription . Perhaps, we could match it with daily activities according to the age groups."
   ]
  },
  {
   "cell_type": "code",
   "execution_count": 565,
   "id": "fd908a24",
   "metadata": {},
   "outputs": [
    {
     "data": {
      "text/plain": [
       "age_group    DoW\n",
       "0-18 years   0.0    0.777778\n",
       "             1.0    0.600000\n",
       "             2.0    0.636364\n",
       "             3.0    0.640000\n",
       "             4.0    0.484848\n",
       "             5.0    0.675676\n",
       "             6.0    0.703704\n",
       "19-24 years  0.0    0.815385\n",
       "             1.0    0.705128\n",
       "             2.0    0.633333\n",
       "             3.0    0.666667\n",
       "             4.0    0.729167\n",
       "             5.0    0.571429\n",
       "             6.0    0.709091\n",
       "24-30 years  0.0    0.697368\n",
       "             1.0    0.701299\n",
       "             2.0    0.627119\n",
       "             3.0    0.591837\n",
       "             4.0    0.615385\n",
       "             5.0    0.666667\n",
       "             6.0    0.545455\n",
       "30-36 years  0.0    0.350000\n",
       "             1.0    0.571429\n",
       "             2.0    0.615385\n",
       "             3.0    0.300000\n",
       "             4.0    0.409091\n",
       "             5.0    0.578947\n",
       "             6.0    0.400000\n",
       "36-45 years  0.0    0.411765\n",
       "             1.0    0.481481\n",
       "             2.0    0.595238\n",
       "             3.0    0.333333\n",
       "             4.0    0.333333\n",
       "             5.0    0.434783\n",
       "             6.0    0.600000\n",
       "45-55 years  0.0    0.562500\n",
       "             1.0    0.448276\n",
       "             2.0    0.500000\n",
       "             3.0    0.560000\n",
       "             4.0    0.416667\n",
       "             5.0    0.454545\n",
       "             6.0    0.357143\n",
       "55+ years    0.0    0.555556\n",
       "             1.0    0.692308\n",
       "             2.0    0.714286\n",
       "             3.0    0.437500\n",
       "             4.0    0.733333\n",
       "             5.0    0.833333\n",
       "             6.0    0.666667\n",
       "Name: converted, dtype: float64"
      ]
     },
     "execution_count": 565,
     "metadata": {},
     "output_type": "execute_result"
    }
   ],
   "source": [
    "df.groupby(['age_group', 'DoW'])['converted'].mean()"
   ]
  },
  {
   "cell_type": "markdown",
   "id": "b8b9b16a",
   "metadata": {},
   "source": [
    "The pattern seems to resonate more firmly amongst the younger age groups. Perhaps, it is after a discussion on weekend discoveries ?"
   ]
  },
  {
   "cell_type": "code",
   "execution_count": 566,
   "id": "92b6df90",
   "metadata": {},
   "outputs": [
    {
     "data": {
      "text/plain": [
       "age_group    dow_canceled\n",
       "0-18 years   0.0             0.769231\n",
       "             1.0             0.600000\n",
       "             2.0             0.769231\n",
       "             3.0             0.500000\n",
       "             4.0             0.750000\n",
       "             5.0             0.562500\n",
       "             6.0             0.833333\n",
       "19-24 years  0.0             0.578947\n",
       "             1.0             0.727273\n",
       "             2.0             0.625000\n",
       "             3.0             0.666667\n",
       "             4.0             0.611111\n",
       "             5.0             0.642857\n",
       "             6.0             0.741935\n",
       "24-30 years  0.0             0.600000\n",
       "             1.0             0.769231\n",
       "             2.0             0.733333\n",
       "             3.0             0.666667\n",
       "             4.0             0.800000\n",
       "             5.0             0.600000\n",
       "             6.0             0.666667\n",
       "30-36 years  0.0             0.500000\n",
       "             1.0             0.285714\n",
       "             2.0             0.600000\n",
       "             3.0             0.714286\n",
       "             4.0             0.800000\n",
       "             5.0             0.500000\n",
       "             6.0             0.285714\n",
       "36-45 years  0.0             0.555556\n",
       "             1.0             0.333333\n",
       "             2.0             0.666667\n",
       "             3.0             0.800000\n",
       "             4.0             0.666667\n",
       "             5.0             0.400000\n",
       "             6.0             0.545455\n",
       "45-55 years  0.0             0.875000\n",
       "             1.0             0.500000\n",
       "             2.0             0.333333\n",
       "             3.0             0.555556\n",
       "             4.0             0.400000\n",
       "             5.0             0.444444\n",
       "             6.0             0.625000\n",
       "55+ years    0.0             1.000000\n",
       "             1.0             0.750000\n",
       "             2.0             1.000000\n",
       "             3.0             0.500000\n",
       "             4.0             0.600000\n",
       "             5.0             0.600000\n",
       "             6.0             1.000000\n",
       "Name: converted, dtype: float64"
      ]
     },
     "execution_count": 566,
     "metadata": {},
     "output_type": "execute_result"
    }
   ],
   "source": [
    "df.groupby(['age_group', 'dow_canceled'])['converted'].mean()"
   ]
  },
  {
   "cell_type": "markdown",
   "id": "0ad5e7c0",
   "metadata": {},
   "source": [
    "There is not much of a pattern for cancellations. Perhaps, this is something that can be assessed with feedback surveys?"
   ]
  },
  {
   "cell_type": "markdown",
   "id": "80924cb4",
   "metadata": {},
   "source": [
    "### Q. Does language match influence conversion and cancelation?"
   ]
  },
  {
   "cell_type": "code",
   "execution_count": 555,
   "id": "fd1c4c69",
   "metadata": {
    "scrolled": true
   },
   "outputs": [
    {
     "data": {
      "text/plain": [
       "<AxesSubplot:xlabel='lang_match'>"
      ]
     },
     "execution_count": 555,
     "metadata": {},
     "output_type": "execute_result"
    },
    {
     "data": {
      "image/png": "[encoded data removed]",
      "text/plain": [
       "<Figure size 432x288 with 1 Axes>"
      ]
     },
     "metadata": {
      "needs_background": "light"
     },
     "output_type": "display_data"
    }
   ],
   "source": [
    "df.groupby('lang_match')['converted'].sum().plot.bar()"
   ]
  },
  {
   "cell_type": "code",
   "execution_count": 561,
   "id": "bbcdd55e",
   "metadata": {},
   "outputs": [
    {
     "data": {
      "text/plain": [
       "<AxesSubplot:xlabel='lang_match'>"
      ]
     },
     "execution_count": 561,
     "metadata": {},
     "output_type": "execute_result"
    },
    {
     "data": {
      "image/png": "[encoded data removed]",
      "text/plain": [
       "<Figure size 432x288 with 1 Axes>"
      ]
     },
     "metadata": {
      "needs_background": "light"
     },
     "output_type": "display_data"
    }
   ],
   "source": [
    "df.groupby('lang_match')['retention_rct'].mean().plot.bar()"
   ]
  },
  {
   "cell_type": "code",
   "execution_count": 557,
   "id": "0b3553c5",
   "metadata": {
    "scrolled": true
   },
   "outputs": [
    {
     "data": {
      "text/plain": [
       "age_group\n",
       "0-18 years     0.039712\n",
       "19-24 years    0.061613\n",
       "24-30 years    0.059819\n",
       "30-36 years    0.035892\n",
       "36-45 years    0.011765\n",
       "45-55 years    0.015490\n",
       "55+ years      0.034870\n",
       "Name: (lang_match, converted), dtype: float64"
      ]
     },
     "execution_count": 557,
     "metadata": {},
     "output_type": "execute_result"
    }
   ],
   "source": [
    "# across age_groups\n",
    "df.groupby('age_group')[['lang_match','converted']].corr().unstack().iloc[:,1]"
   ]
  },
  {
   "cell_type": "code",
   "execution_count": 558,
   "id": "838860cb",
   "metadata": {},
   "outputs": [
    {
     "data": {
      "text/plain": [
       "age_group\n",
       "0-18 years    -0.014559\n",
       "19-24 years   -0.036184\n",
       "24-30 years   -0.033468\n",
       "30-36 years   -0.030627\n",
       "36-45 years    0.009240\n",
       "45-55 years   -0.012250\n",
       "55+ years     -0.040655\n",
       "Name: (lang_match, is_retained), dtype: float64"
      ]
     },
     "execution_count": 558,
     "metadata": {},
     "output_type": "execute_result"
    }
   ],
   "source": [
    "# across age_groups\n",
    "df.groupby('age_group')[['lang_match','is_retained']].corr().unstack().iloc[:,1]"
   ]
  },
  {
   "cell_type": "code",
   "execution_count": 559,
   "id": "d063ed31",
   "metadata": {},
   "outputs": [
    {
     "data": {
      "text/plain": [
       "subscribing_channel\n",
       "Email        0.128624\n",
       "Facebook     0.105747\n",
       "House Ads   -0.122049\n",
       "Instagram    0.044676\n",
       "Push         0.158155\n",
       "Name: (lang_match, converted), dtype: float64"
      ]
     },
     "execution_count": 559,
     "metadata": {},
     "output_type": "execute_result"
    }
   ],
   "source": [
    "# across subscribing_channel\n",
    "df.groupby('subscribing_channel')[['lang_match','converted']].corr().unstack().iloc[:,1]"
   ]
  },
  {
   "cell_type": "code",
   "execution_count": 560,
   "id": "931d899f",
   "metadata": {
    "scrolled": true
   },
   "outputs": [
    {
     "data": {
      "text/plain": [
       "subscribing_channel\n",
       "Email       -0.062545\n",
       "Facebook     0.008738\n",
       "House Ads    0.033641\n",
       "Instagram    0.068231\n",
       "Push         0.015809\n",
       "Name: (lang_match, is_retained), dtype: float64"
      ]
     },
     "execution_count": 560,
     "metadata": {},
     "output_type": "execute_result"
    }
   ],
   "source": [
    "# across subscribing_channel\n",
    "df.groupby('subscribing_channel')[['lang_match','is_retained']].corr().unstack().iloc[:,1]"
   ]
  },
  {
   "cell_type": "markdown",
   "id": "af380fb2",
   "metadata": {},
   "source": [
    "### Q. Does the language displayed have an influence on conversion?"
   ]
  },
  {
   "cell_type": "code",
   "execution_count": 567,
   "id": "187ac89f",
   "metadata": {},
   "outputs": [
    {
     "data": {
      "text/plain": [
       "age_group\n",
       "0-18 years     0.018534\n",
       "19-24 years    0.072152\n",
       "24-30 years    0.089202\n",
       "30-36 years   -0.062532\n",
       "36-45 years    0.024730\n",
       "45-55 years   -0.040603\n",
       "55+ years     -0.101879\n",
       "Name: (ld_code, converted), dtype: float64"
      ]
     },
     "execution_count": 567,
     "metadata": {},
     "output_type": "execute_result"
    }
   ],
   "source": [
    "# across age_groups\n",
    "df.groupby('age_group')[['ld_code','converted']].corr().unstack().iloc[:,1]"
   ]
  },
  {
   "cell_type": "code",
   "execution_count": 568,
   "id": "4b124654",
   "metadata": {},
   "outputs": [
    {
     "data": {
      "text/plain": [
       "age_group\n",
       "0-18 years     0.048059\n",
       "19-24 years    0.086306\n",
       "24-30 years    0.095063\n",
       "30-36 years    0.008736\n",
       "36-45 years    0.008246\n",
       "45-55 years    0.000697\n",
       "55+ years     -0.040114\n",
       "Name: (lp_code, converted), dtype: float64"
      ]
     },
     "execution_count": 568,
     "metadata": {},
     "output_type": "execute_result"
    }
   ],
   "source": [
    "# across age_groups\n",
    "df.groupby('age_group')[['lp_code','converted']].corr().unstack().iloc[:,1]"
   ]
  },
  {
   "cell_type": "markdown",
   "id": "36562c59",
   "metadata": {},
   "source": [
    "Not much of a strong relationship."
   ]
  },
  {
   "cell_type": "code",
   "execution_count": 582,
   "id": "2bbfbc4b",
   "metadata": {},
   "outputs": [
    {
     "data": {
      "text/plain": [
       "<AxesSubplot:xlabel='language_displayed'>"
      ]
     },
     "execution_count": 582,
     "metadata": {},
     "output_type": "execute_result"
    },
    {
     "data": {
      "image/png": "[encoded data removed]",
      "text/plain": [
       "<Figure size 432x288 with 1 Axes>"
      ]
     },
     "metadata": {
      "needs_background": "light"
     },
     "output_type": "display_data"
    }
   ],
   "source": [
    "df.groupby('language_displayed')[['converted']].sum().plot.bar()"
   ]
  },
  {
   "cell_type": "code",
   "execution_count": 571,
   "id": "3a423be1",
   "metadata": {
    "scrolled": true
   },
   "outputs": [
    {
     "data": {
      "text/html": [
       "<div>\n",
       "<style scoped>\n",
       "    .dataframe tbody tr th:only-of-type {\n",
       "        vertical-align: middle;\n",
       "    }\n",
       "\n",
       "    .dataframe tbody tr th {\n",
       "        vertical-align: top;\n",
       "    }\n",
       "\n",
       "    .dataframe thead th {\n",
       "        text-align: right;\n",
       "    }\n",
       "</style>\n",
       "<table border=\"1\" class=\"dataframe\">\n",
       "  <thead>\n",
       "    <tr style=\"text-align: right;\">\n",
       "      <th></th>\n",
       "      <th>user_id</th>\n",
       "      <th>date_served</th>\n",
       "      <th>marketing_channel</th>\n",
       "      <th>variant</th>\n",
       "      <th>converted</th>\n",
       "      <th>language_displayed</th>\n",
       "      <th>language_preferred</th>\n",
       "      <th>age_group</th>\n",
       "      <th>date_subscribed</th>\n",
       "      <th>date_canceled</th>\n",
       "      <th>...</th>\n",
       "      <th>month_subscribed</th>\n",
       "      <th>day_canceled</th>\n",
       "      <th>dow_canceled</th>\n",
       "      <th>month_canceled</th>\n",
       "      <th>variant_code</th>\n",
       "      <th>mc_code</th>\n",
       "      <th>ld_code</th>\n",
       "      <th>lp_code</th>\n",
       "      <th>lang_match</th>\n",
       "      <th>retention_rct</th>\n",
       "    </tr>\n",
       "  </thead>\n",
       "  <tbody>\n",
       "    <tr>\n",
       "      <th>22</th>\n",
       "      <td>a100000050</td>\n",
       "      <td>2018-01-01</td>\n",
       "      <td>House Ads</td>\n",
       "      <td>personalization</td>\n",
       "      <td>False</td>\n",
       "      <td>English</td>\n",
       "      <td>English</td>\n",
       "      <td>24-30 years</td>\n",
       "      <td>2018-01-02</td>\n",
       "      <td>NaT</td>\n",
       "      <td>...</td>\n",
       "      <td>1.0</td>\n",
       "      <td>NaN</td>\n",
       "      <td>NaN</td>\n",
       "      <td>NaN</td>\n",
       "      <td>1</td>\n",
       "      <td>3</td>\n",
       "      <td>2</td>\n",
       "      <td>2</td>\n",
       "      <td>True</td>\n",
       "      <td>0.425532</td>\n",
       "    </tr>\n",
       "    <tr>\n",
       "      <th>24</th>\n",
       "      <td>a100000051</td>\n",
       "      <td>2018-01-01</td>\n",
       "      <td>Push</td>\n",
       "      <td>personalization</td>\n",
       "      <td>False</td>\n",
       "      <td>English</td>\n",
       "      <td>English</td>\n",
       "      <td>30-36 years</td>\n",
       "      <td>2018-01-02</td>\n",
       "      <td>NaT</td>\n",
       "      <td>...</td>\n",
       "      <td>1.0</td>\n",
       "      <td>NaN</td>\n",
       "      <td>NaN</td>\n",
       "      <td>NaN</td>\n",
       "      <td>1</td>\n",
       "      <td>0</td>\n",
       "      <td>2</td>\n",
       "      <td>2</td>\n",
       "      <td>True</td>\n",
       "      <td>1.265823</td>\n",
       "    </tr>\n",
       "    <tr>\n",
       "      <th>26</th>\n",
       "      <td>a100000052</td>\n",
       "      <td>2018-01-01</td>\n",
       "      <td>House Ads</td>\n",
       "      <td>personalization</td>\n",
       "      <td>False</td>\n",
       "      <td>English</td>\n",
       "      <td>English</td>\n",
       "      <td>36-45 years</td>\n",
       "      <td>2018-01-02</td>\n",
       "      <td>NaT</td>\n",
       "      <td>...</td>\n",
       "      <td>1.0</td>\n",
       "      <td>NaN</td>\n",
       "      <td>NaN</td>\n",
       "      <td>NaN</td>\n",
       "      <td>1</td>\n",
       "      <td>3</td>\n",
       "      <td>2</td>\n",
       "      <td>2</td>\n",
       "      <td>True</td>\n",
       "      <td>1.315789</td>\n",
       "    </tr>\n",
       "    <tr>\n",
       "      <th>28</th>\n",
       "      <td>a100000053</td>\n",
       "      <td>2018-01-01</td>\n",
       "      <td>House Ads</td>\n",
       "      <td>personalization</td>\n",
       "      <td>False</td>\n",
       "      <td>English</td>\n",
       "      <td>English</td>\n",
       "      <td>45-55 years</td>\n",
       "      <td>2018-01-02</td>\n",
       "      <td>NaT</td>\n",
       "      <td>...</td>\n",
       "      <td>1.0</td>\n",
       "      <td>NaN</td>\n",
       "      <td>NaN</td>\n",
       "      <td>NaN</td>\n",
       "      <td>1</td>\n",
       "      <td>3</td>\n",
       "      <td>2</td>\n",
       "      <td>2</td>\n",
       "      <td>True</td>\n",
       "      <td>1.298701</td>\n",
       "    </tr>\n",
       "    <tr>\n",
       "      <th>30</th>\n",
       "      <td>a100000054</td>\n",
       "      <td>2018-01-01</td>\n",
       "      <td>House Ads</td>\n",
       "      <td>personalization</td>\n",
       "      <td>False</td>\n",
       "      <td>English</td>\n",
       "      <td>English</td>\n",
       "      <td>55+ years</td>\n",
       "      <td>2018-01-02</td>\n",
       "      <td>NaT</td>\n",
       "      <td>...</td>\n",
       "      <td>1.0</td>\n",
       "      <td>NaN</td>\n",
       "      <td>NaN</td>\n",
       "      <td>NaN</td>\n",
       "      <td>1</td>\n",
       "      <td>3</td>\n",
       "      <td>2</td>\n",
       "      <td>2</td>\n",
       "      <td>True</td>\n",
       "      <td>1.250000</td>\n",
       "    </tr>\n",
       "  </tbody>\n",
       "</table>\n",
       "<p>5 rows × 31 columns</p>\n",
       "</div>"
      ],
      "text/plain": [
       "       user_id date_served marketing_channel          variant  converted  \\\n",
       "22  a100000050  2018-01-01         House Ads  personalization      False   \n",
       "24  a100000051  2018-01-01              Push  personalization      False   \n",
       "26  a100000052  2018-01-01         House Ads  personalization      False   \n",
       "28  a100000053  2018-01-01         House Ads  personalization      False   \n",
       "30  a100000054  2018-01-01         House Ads  personalization      False   \n",
       "\n",
       "   language_displayed language_preferred    age_group date_subscribed  \\\n",
       "22            English            English  24-30 years      2018-01-02   \n",
       "24            English            English  30-36 years      2018-01-02   \n",
       "26            English            English  36-45 years      2018-01-02   \n",
       "28            English            English  45-55 years      2018-01-02   \n",
       "30            English            English    55+ years      2018-01-02   \n",
       "\n",
       "   date_canceled  ... month_subscribed  day_canceled  dow_canceled  \\\n",
       "22           NaT  ...              1.0           NaN           NaN   \n",
       "24           NaT  ...              1.0           NaN           NaN   \n",
       "26           NaT  ...              1.0           NaN           NaN   \n",
       "28           NaT  ...              1.0           NaN           NaN   \n",
       "30           NaT  ...              1.0           NaN           NaN   \n",
       "\n",
       "    month_canceled  variant_code mc_code ld_code lp_code  lang_match  \\\n",
       "22             NaN             1       3       2       2        True   \n",
       "24             NaN             1       0       2       2        True   \n",
       "26             NaN             1       3       2       2        True   \n",
       "28             NaN             1       3       2       2        True   \n",
       "30             NaN             1       3       2       2        True   \n",
       "\n",
       "    retention_rct  \n",
       "22       0.425532  \n",
       "24       1.265823  \n",
       "26       1.315789  \n",
       "28       1.298701  \n",
       "30       1.250000  \n",
       "\n",
       "[5 rows x 31 columns]"
      ]
     },
     "execution_count": 571,
     "metadata": {},
     "output_type": "execute_result"
    }
   ],
   "source": [
    "not_converts = df[df['converted'] == False]\n",
    "not_converts.head()"
   ]
  },
  {
   "cell_type": "code",
   "execution_count": 578,
   "id": "783049a2",
   "metadata": {
    "scrolled": true
   },
   "outputs": [
    {
     "data": {
      "text/html": [
       "<div>\n",
       "<style scoped>\n",
       "    .dataframe tbody tr th:only-of-type {\n",
       "        vertical-align: middle;\n",
       "    }\n",
       "\n",
       "    .dataframe tbody tr th {\n",
       "        vertical-align: top;\n",
       "    }\n",
       "\n",
       "    .dataframe thead th {\n",
       "        text-align: right;\n",
       "    }\n",
       "</style>\n",
       "<table border=\"1\" class=\"dataframe\">\n",
       "  <thead>\n",
       "    <tr style=\"text-align: right;\">\n",
       "      <th></th>\n",
       "      <th>user_id</th>\n",
       "      <th>date_served</th>\n",
       "      <th>marketing_channel</th>\n",
       "      <th>variant</th>\n",
       "      <th>converted</th>\n",
       "      <th>language_displayed</th>\n",
       "      <th>language_preferred</th>\n",
       "      <th>age_group</th>\n",
       "      <th>date_subscribed</th>\n",
       "      <th>date_canceled</th>\n",
       "      <th>...</th>\n",
       "      <th>month_subscribed</th>\n",
       "      <th>day_canceled</th>\n",
       "      <th>dow_canceled</th>\n",
       "      <th>month_canceled</th>\n",
       "      <th>variant_code</th>\n",
       "      <th>mc_code</th>\n",
       "      <th>ld_code</th>\n",
       "      <th>lp_code</th>\n",
       "      <th>lang_match</th>\n",
       "      <th>retention_rct</th>\n",
       "    </tr>\n",
       "  </thead>\n",
       "  <tbody>\n",
       "    <tr>\n",
       "      <th>1815</th>\n",
       "      <td>a100000004</td>\n",
       "      <td>2018-01-01</td>\n",
       "      <td>House Ads</td>\n",
       "      <td>control</td>\n",
       "      <td>False</td>\n",
       "      <td>English</td>\n",
       "      <td>English</td>\n",
       "      <td>0-18 years</td>\n",
       "      <td>NaT</td>\n",
       "      <td>NaT</td>\n",
       "      <td>...</td>\n",
       "      <td>NaN</td>\n",
       "      <td>NaN</td>\n",
       "      <td>NaN</td>\n",
       "      <td>NaN</td>\n",
       "      <td>0</td>\n",
       "      <td>3</td>\n",
       "      <td>2</td>\n",
       "      <td>2</td>\n",
       "      <td>True</td>\n",
       "      <td>0.505051</td>\n",
       "    </tr>\n",
       "    <tr>\n",
       "      <th>1816</th>\n",
       "      <td>a100000013</td>\n",
       "      <td>2018-01-01</td>\n",
       "      <td>Push</td>\n",
       "      <td>control</td>\n",
       "      <td>False</td>\n",
       "      <td>English</td>\n",
       "      <td>English</td>\n",
       "      <td>19-24 years</td>\n",
       "      <td>NaT</td>\n",
       "      <td>NaT</td>\n",
       "      <td>...</td>\n",
       "      <td>NaN</td>\n",
       "      <td>NaN</td>\n",
       "      <td>NaN</td>\n",
       "      <td>NaN</td>\n",
       "      <td>0</td>\n",
       "      <td>0</td>\n",
       "      <td>2</td>\n",
       "      <td>2</td>\n",
       "      <td>True</td>\n",
       "      <td>0.321543</td>\n",
       "    </tr>\n",
       "    <tr>\n",
       "      <th>1817</th>\n",
       "      <td>a100000022</td>\n",
       "      <td>2018-01-01</td>\n",
       "      <td>Facebook</td>\n",
       "      <td>control</td>\n",
       "      <td>False</td>\n",
       "      <td>English</td>\n",
       "      <td>English</td>\n",
       "      <td>24-30 years</td>\n",
       "      <td>NaT</td>\n",
       "      <td>NaT</td>\n",
       "      <td>...</td>\n",
       "      <td>NaN</td>\n",
       "      <td>NaN</td>\n",
       "      <td>NaN</td>\n",
       "      <td>NaN</td>\n",
       "      <td>0</td>\n",
       "      <td>2</td>\n",
       "      <td>2</td>\n",
       "      <td>2</td>\n",
       "      <td>True</td>\n",
       "      <td>0.425532</td>\n",
       "    </tr>\n",
       "    <tr>\n",
       "      <th>1818</th>\n",
       "      <td>a100000022</td>\n",
       "      <td>2018-01-16</td>\n",
       "      <td>Facebook</td>\n",
       "      <td>control</td>\n",
       "      <td>False</td>\n",
       "      <td>English</td>\n",
       "      <td>English</td>\n",
       "      <td>24-30 years</td>\n",
       "      <td>NaT</td>\n",
       "      <td>NaT</td>\n",
       "      <td>...</td>\n",
       "      <td>NaN</td>\n",
       "      <td>NaN</td>\n",
       "      <td>NaN</td>\n",
       "      <td>NaN</td>\n",
       "      <td>0</td>\n",
       "      <td>2</td>\n",
       "      <td>2</td>\n",
       "      <td>2</td>\n",
       "      <td>True</td>\n",
       "      <td>0.425532</td>\n",
       "    </tr>\n",
       "    <tr>\n",
       "      <th>1819</th>\n",
       "      <td>a100000025</td>\n",
       "      <td>2018-01-01</td>\n",
       "      <td>Instagram</td>\n",
       "      <td>control</td>\n",
       "      <td>False</td>\n",
       "      <td>English</td>\n",
       "      <td>English</td>\n",
       "      <td>30-36 years</td>\n",
       "      <td>NaT</td>\n",
       "      <td>NaT</td>\n",
       "      <td>...</td>\n",
       "      <td>NaN</td>\n",
       "      <td>NaN</td>\n",
       "      <td>NaN</td>\n",
       "      <td>NaN</td>\n",
       "      <td>0</td>\n",
       "      <td>4</td>\n",
       "      <td>2</td>\n",
       "      <td>2</td>\n",
       "      <td>True</td>\n",
       "      <td>1.265823</td>\n",
       "    </tr>\n",
       "  </tbody>\n",
       "</table>\n",
       "<p>5 rows × 31 columns</p>\n",
       "</div>"
      ],
      "text/plain": [
       "         user_id date_served marketing_channel  variant  converted  \\\n",
       "1815  a100000004  2018-01-01         House Ads  control      False   \n",
       "1816  a100000013  2018-01-01              Push  control      False   \n",
       "1817  a100000022  2018-01-01          Facebook  control      False   \n",
       "1818  a100000022  2018-01-16          Facebook  control      False   \n",
       "1819  a100000025  2018-01-01         Instagram  control      False   \n",
       "\n",
       "     language_displayed language_preferred    age_group date_subscribed  \\\n",
       "1815            English            English   0-18 years             NaT   \n",
       "1816            English            English  19-24 years             NaT   \n",
       "1817            English            English  24-30 years             NaT   \n",
       "1818            English            English  24-30 years             NaT   \n",
       "1819            English            English  30-36 years             NaT   \n",
       "\n",
       "     date_canceled  ... month_subscribed  day_canceled  dow_canceled  \\\n",
       "1815           NaT  ...              NaN           NaN           NaN   \n",
       "1816           NaT  ...              NaN           NaN           NaN   \n",
       "1817           NaT  ...              NaN           NaN           NaN   \n",
       "1818           NaT  ...              NaN           NaN           NaN   \n",
       "1819           NaT  ...              NaN           NaN           NaN   \n",
       "\n",
       "      month_canceled  variant_code mc_code ld_code lp_code  lang_match  \\\n",
       "1815             NaN             0       3       2       2        True   \n",
       "1816             NaN             0       0       2       2        True   \n",
       "1817             NaN             0       2       2       2        True   \n",
       "1818             NaN             0       2       2       2        True   \n",
       "1819             NaN             0       4       2       2        True   \n",
       "\n",
       "      retention_rct  \n",
       "1815       0.505051  \n",
       "1816       0.321543  \n",
       "1817       0.425532  \n",
       "1818       0.425532  \n",
       "1819       1.265823  \n",
       "\n",
       "[5 rows x 31 columns]"
      ]
     },
     "execution_count": 578,
     "metadata": {},
     "output_type": "execute_result"
    }
   ],
   "source": [
    "not_subscribers = df[df['date_subscribed'].isna()]\n",
    "not_subscribers.head()"
   ]
  },
  {
   "cell_type": "code",
   "execution_count": 580,
   "id": "f7524f02",
   "metadata": {},
   "outputs": [
    {
     "data": {
      "text/plain": [
       "<AxesSubplot:>"
      ]
     },
     "execution_count": 580,
     "metadata": {},
     "output_type": "execute_result"
    },
    {
     "data": {
      "image/png": "[encoded data removed]",
      "text/plain": [
       "<Figure size 432x288 with 1 Axes>"
      ]
     },
     "metadata": {
      "needs_background": "light"
     },
     "output_type": "display_data"
    }
   ],
   "source": [
    "not_subscribers['language_displayed'].value_counts().plot.bar()"
   ]
  },
  {
   "cell_type": "code",
   "execution_count": 581,
   "id": "d1e842a2",
   "metadata": {
    "scrolled": true
   },
   "outputs": [
    {
     "data": {
      "text/plain": [
       "<AxesSubplot:>"
      ]
     },
     "execution_count": 581,
     "metadata": {},
     "output_type": "execute_result"
    },
    {
     "data": {
      "image/png": "[encoded data removed]",
      "text/plain": [
       "<Figure size 432x288 with 1 Axes>"
      ]
     },
     "metadata": {
      "needs_background": "light"
     },
     "output_type": "display_data"
    }
   ],
   "source": [
    "not_converts['language_displayed'].value_counts().plot.bar()"
   ]
  },
  {
   "cell_type": "code",
   "execution_count": 583,
   "id": "92331e23",
   "metadata": {},
   "outputs": [
    {
     "data": {
      "text/plain": [
       "<AxesSubplot:>"
      ]
     },
     "execution_count": 583,
     "metadata": {},
     "output_type": "execute_result"
    },
    {
     "data": {
      "image/png": "[encoded data removed]",
      "text/plain": [
       "<Figure size 432x288 with 1 Axes>"
      ]
     },
     "metadata": {
      "needs_background": "light"
     },
     "output_type": "display_data"
    }
   ],
   "source": [
    "cancelled_df['language_displayed'].value_counts().plot.bar()"
   ]
  },
  {
   "cell_type": "code",
   "execution_count": 585,
   "id": "1b2851d6",
   "metadata": {},
   "outputs": [
    {
     "data": {
      "text/plain": [
       "<AxesSubplot:>"
      ]
     },
     "execution_count": 585,
     "metadata": {},
     "output_type": "execute_result"
    },
    {
     "data": {
      "image/png": "[encoded data removed]",
      "text/plain": [
       "<Figure size 432x288 with 1 Axes>"
      ]
     },
     "metadata": {
      "needs_background": "light"
     },
     "output_type": "display_data"
    }
   ],
   "source": [
    "cancelled_df['language_preferred'].value_counts().plot.bar()"
   ]
  }
 ],
 "metadata": {
  "kernelspec": {
   "display_name": "Python 3 (ipykernel)",
   "language": "python",
   "name": "python3"
  },
  "language_info": {
   "codemirror_mode": {
    "name": "ipython",
    "version": 3
   },
   "file_extension": ".py",
   "mimetype": "text/x-python",
   "name": "python",
   "nbconvert_exporter": "python",
   "pygments_lexer": "ipython3",
   "version": "3.9.7"
  }
 },
 "nbformat": 4,
 "nbformat_minor": 5
}
